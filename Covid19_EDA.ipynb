{
 "cells": [
  {
   "cell_type": "markdown",
   "metadata": {},
   "source": [
    "# COVID-19 Data Visualization and Exploratory Data Analysis"
   ]
  },
  {
   "cell_type": "markdown",
   "metadata": {},
   "source": [
    "## Data Source\n",
    "The following is a portfolio project in which the Our World in Data Covid-19 dataset is explored.  A copy of the dataset can be found at [this site](https://github.com/owid/covid-19-data/tree/master/public/data).\n",
    "\n",
    "The data comes from the COVID-19 Data Repository by the Center of Systems Science and Engineering (CSSE) at Johns Hopkins University.  The dataset contains data regarding confirmed cases and deaths, hospitalizations, testing for COVID-19, vaccinations against COVID-19, and other variables.  In this notebook, we will perform exploratory data analysis on the COVID-19 dataset.  Run the code snippet below to prepare this Jupyter notebook."
   ]
  },
  {
   "cell_type": "markdown",
   "metadata": {},
   "source": [
    "## Data Ingestion\n",
    "Ingested the data into a SQL server instance.  The data should have two tables: CovidDeaths and CovidVaccinations.  Alternatively, use the code below to create the database in your SQL server instance."
   ]
  },
  {
   "cell_type": "markdown",
   "metadata": {},
   "source": [
    "### CovidDeaths spreadsheet fields: \n",
    "The CovidDeaths spreadsheet file should have these fields in the following order:\n",
    "\n",
    "iso_code, continent, location, date, population, total_cases, new_cases, new_cases_smoothed, total_deaths, new_deaths, new_deaths_smoothed, total_cases_per_million, new_cases_per_million, new_cases_smoothed_per_million, total_deaths_per_million, new_deaths_per_million, new_deaths_smoothed_per_million, reproduction_rate, icu_patients, icu_patients_per_million, hosp_patients, hosp_patients_per_million, weekly_icu_admissions, weekly_icu_admissions_per_million, weekly_hosp_admissions, weekly_hosp_admissions_per_million, total_tests\n",
    "\n",
    "### CovidVaccination spreadsheet fields: \n",
    "The CovidVaccination spreadsheet file should have these fields in the following order:\n",
    "\n",
    "iso_code, continent, location, date, total_tests, new_tests, total_tests_per_thousand, new_tests_per_thousand, new_tests_smoothed, new_tests_smoothed_per_thousand, positive_rate, tests_per_case, tests_units, total_vaccinations, people_vaccinated, people_fully_vaccinated, total_boosters, new_vaccinations, new_vaccinations_smoothed, total_vaccinations_per_hundred, people_vaccinated_per_hundred, people_fully_vaccinated_per_hundred, total_boosters_per_hundred, new_vaccinations_smoothed_per_million, new_people_vaccinated_smoothed, new_people_vaccinated_smoothed_per_hundred, stringency_index, population, population_density, median_age, aged_65_older, aged_70_older, gdp_per_capita, extreme_poverty, cardiovasc_death_rate, diabetes_prevalence, female_smokers, male_smokers, handwashing_facilities, hospital_beds_per_thousand, life_expectancy, human_development_index, excess_mortality_cumulative_absolute, excess_mortality_cumulative, excess_mortality, excess_mortality_cumulative_per_million\n",
    "\n",
    "Finally, import these two files to create two tables: PorfolioProject..CovidDeaths and PorfolioProject..CovidVaccination\n",
    "\n",
    "## Connect to the database\n",
    "Finally, connect to the database that has been created and next we will explore the data set!"
   ]
  },
  {
   "cell_type": "code",
   "execution_count": 1,
   "metadata": {},
   "outputs": [],
   "source": [
    "# import packages\n",
    "\n",
    "import seaborn as sns\n",
    "import matplotlib.pyplot as plt\n",
    "import pyodbc\n",
    "import pandas as pd"
   ]
  },
  {
   "cell_type": "code",
   "execution_count": 3,
   "metadata": {},
   "outputs": [],
   "source": [
    "cnxn_str = (\"Driver={SQL Server Native Client 11.0};\"\n",
    "            \"Server=EnterYourServerNameHere;\"\n",
    "            \"Database=EnterYourDatabaseNameHere;\"\n",
    "            \"UID=EnterYourUserIDHere;\"\n",
    "            \"PWD=EnterYourPasswordHere;\")\n",
    "cnxn = pyodbc.connect(cnxn_str)"
   ]
  },
  {
   "cell_type": "markdown",
   "metadata": {},
   "source": [
    "## EDA\n",
    "Code for the exploratory data analysis on COVID dataset is below.\n",
    "#### First exploration of CovidDeaths and CovidVaccinations dataset.\n"
   ]
  },
  {
   "cell_type": "code",
   "execution_count": 6,
   "metadata": {},
   "outputs": [
    {
     "name": "stderr",
     "output_type": "stream",
     "text": [
      "c:\\Users\\Jen\\AppData\\Local\\Programs\\Python\\Python310\\lib\\site-packages\\pandas\\io\\sql.py:762: UserWarning: pandas only support SQLAlchemy connectable(engine/connection) ordatabase string URI or sqlite3 DBAPI2 connectionother DBAPI2 objects are not tested, please consider using SQLAlchemy\n",
      "  warnings.warn(\n"
     ]
    },
    {
     "name": "stdout",
     "output_type": "stream",
     "text": [
      "<bound method NDFrame.head of        iso_code continent     location        date  population  total_cases  \\\n",
      "0           AFG      Asia  Afghanistan  2020-02-24  40099462.0          5.0   \n",
      "1           AFG      Asia  Afghanistan  2020-02-25  40099462.0          5.0   \n",
      "2           AFG      Asia  Afghanistan  2020-02-26  40099462.0          5.0   \n",
      "3           AFG      Asia  Afghanistan  2020-02-27  40099462.0          5.0   \n",
      "4           AFG      Asia  Afghanistan  2020-02-28  40099462.0          5.0   \n",
      "...         ...       ...          ...         ...         ...          ...   \n",
      "206562      ZWE    Africa     Zimbabwe  2022-09-21  15993524.0     257156.0   \n",
      "206563      ZWE    Africa     Zimbabwe  2022-09-22  15993524.0     257259.0   \n",
      "206564      ZWE    Africa     Zimbabwe  2022-09-23  15993524.0     257289.0   \n",
      "206565      ZWE    Africa     Zimbabwe  2022-09-24  15993524.0     257318.0   \n",
      "206566      ZWE    Africa     Zimbabwe  2022-09-25  15993524.0     257340.0   \n",
      "\n",
      "        new_cases  new_cases_smoothed total_deaths new_deaths  ...  \\\n",
      "0             5.0                 NaN         None       None  ...   \n",
      "1             0.0                 NaN         None       None  ...   \n",
      "2             0.0                 NaN         None       None  ...   \n",
      "3             0.0                 NaN         None       None  ...   \n",
      "4             0.0                 NaN         None       None  ...   \n",
      "...           ...                 ...          ...        ...  ...   \n",
      "206562        0.0              31.000         5598          0  ...   \n",
      "206563      103.0              45.714         5598          0  ...   \n",
      "206564       30.0              50.000         5599          1  ...   \n",
      "206565       29.0              47.143         5599          0  ...   \n",
      "206566       22.0              49.143         5599          0  ...   \n",
      "\n",
      "       reproduction_rate  icu_patients  icu_patients_per_million  \\\n",
      "0                   None          None                      None   \n",
      "1                   None          None                      None   \n",
      "2                   None          None                      None   \n",
      "3                   None          None                      None   \n",
      "4                   None          None                      None   \n",
      "...                  ...           ...                       ...   \n",
      "206562              None          None                      None   \n",
      "206563              None          None                      None   \n",
      "206564              None          None                      None   \n",
      "206565              None          None                      None   \n",
      "206566              None          None                      None   \n",
      "\n",
      "        hosp_patients hosp_patients_per_million weekly_icu_admissions  \\\n",
      "0                None                      None                  None   \n",
      "1                None                      None                  None   \n",
      "2                None                      None                  None   \n",
      "3                None                      None                  None   \n",
      "4                None                      None                  None   \n",
      "...               ...                       ...                   ...   \n",
      "206562           None                      None                  None   \n",
      "206563           None                      None                  None   \n",
      "206564           None                      None                  None   \n",
      "206565           None                      None                  None   \n",
      "206566           None                      None                  None   \n",
      "\n",
      "       weekly_icu_admissions_per_million weekly_hosp_admissions  \\\n",
      "0                                   None                   None   \n",
      "1                                   None                   None   \n",
      "2                                   None                   None   \n",
      "3                                   None                   None   \n",
      "4                                   None                   None   \n",
      "...                                  ...                    ...   \n",
      "206562                              None                   None   \n",
      "206563                              None                   None   \n",
      "206564                              None                   None   \n",
      "206565                              None                   None   \n",
      "206566                              None                   None   \n",
      "\n",
      "       weekly_hosp_admissions_per_million total_tests  \n",
      "0                                    None        None  \n",
      "1                                    None        None  \n",
      "2                                    None        None  \n",
      "3                                    None        None  \n",
      "4                                    None        None  \n",
      "...                                   ...         ...  \n",
      "206562                               None        None  \n",
      "206563                               None        None  \n",
      "206564                               None        None  \n",
      "206565                               None        None  \n",
      "206566                               None        None  \n",
      "\n",
      "[206567 rows x 27 columns]>\n"
     ]
    },
    {
     "name": "stderr",
     "output_type": "stream",
     "text": [
      "c:\\Users\\Jen\\AppData\\Local\\Programs\\Python\\Python310\\lib\\site-packages\\pandas\\io\\sql.py:762: UserWarning: pandas only support SQLAlchemy connectable(engine/connection) ordatabase string URI or sqlite3 DBAPI2 connectionother DBAPI2 objects are not tested, please consider using SQLAlchemy\n",
      "  warnings.warn(\n"
     ]
    },
    {
     "name": "stdout",
     "output_type": "stream",
     "text": [
      "<bound method NDFrame.head of        iso_code continent     location        date total_tests new_tests  \\\n",
      "0           AFG      Asia  Afghanistan  2020-02-24        None      None   \n",
      "1           AFG      Asia  Afghanistan  2020-02-25        None      None   \n",
      "2           AFG      Asia  Afghanistan  2020-02-26        None      None   \n",
      "3           AFG      Asia  Afghanistan  2020-02-27        None      None   \n",
      "4           AFG      Asia  Afghanistan  2020-02-28        None      None   \n",
      "...         ...       ...          ...         ...         ...       ...   \n",
      "206562      ZWE    Africa     Zimbabwe  2022-09-21        None      None   \n",
      "206563      ZWE    Africa     Zimbabwe  2022-09-22        None      None   \n",
      "206564      ZWE    Africa     Zimbabwe  2022-09-23        None      None   \n",
      "206565      ZWE    Africa     Zimbabwe  2022-09-24        None      None   \n",
      "206566      ZWE    Africa     Zimbabwe  2022-09-25        None      None   \n",
      "\n",
      "       total_tests_per_thousand new_tests_per_thousand new_tests_smoothed  \\\n",
      "0                          None                   None               None   \n",
      "1                          None                   None               None   \n",
      "2                          None                   None               None   \n",
      "3                          None                   None               None   \n",
      "4                          None                   None               None   \n",
      "...                         ...                    ...                ...   \n",
      "206562                     None                   None               None   \n",
      "206563                     None                   None               None   \n",
      "206564                     None                   None               None   \n",
      "206565                     None                   None               None   \n",
      "206566                     None                   None               None   \n",
      "\n",
      "       new_tests_smoothed_per_thousand  ... female_smokers male_smokers  \\\n",
      "0                                 None  ...           None         None   \n",
      "1                                 None  ...           None         None   \n",
      "2                                 None  ...           None         None   \n",
      "3                                 None  ...           None         None   \n",
      "4                                 None  ...           None         None   \n",
      "...                                ...  ...            ...          ...   \n",
      "206562                            None  ...            1.6         30.7   \n",
      "206563                            None  ...            1.6         30.7   \n",
      "206564                            None  ...            1.6         30.7   \n",
      "206565                            None  ...            1.6         30.7   \n",
      "206566                            None  ...            1.6         30.7   \n",
      "\n",
      "       handwashing_facilities hospital_beds_per_thousand life_expectancy  \\\n",
      "0                      37.746                        0.5           64.83   \n",
      "1                      37.746                        0.5           64.83   \n",
      "2                      37.746                        0.5           64.83   \n",
      "3                      37.746                        0.5           64.83   \n",
      "4                      37.746                        0.5           64.83   \n",
      "...                       ...                        ...             ...   \n",
      "206562                 36.791                        1.7           61.49   \n",
      "206563                 36.791                        1.7           61.49   \n",
      "206564                 36.791                        1.7           61.49   \n",
      "206565                 36.791                        1.7           61.49   \n",
      "206566                 36.791                        1.7           61.49   \n",
      "\n",
      "       human_development_index excess_mortality_cumulative_absolute  \\\n",
      "0                        0.511                                 None   \n",
      "1                        0.511                                 None   \n",
      "2                        0.511                                 None   \n",
      "3                        0.511                                 None   \n",
      "4                        0.511                                 None   \n",
      "...                        ...                                  ...   \n",
      "206562                   0.571                                 None   \n",
      "206563                   0.571                                 None   \n",
      "206564                   0.571                                 None   \n",
      "206565                   0.571                                 None   \n",
      "206566                   0.571                                 None   \n",
      "\n",
      "       excess_mortality_cumulative excess_mortality  \\\n",
      "0                             None             None   \n",
      "1                             None             None   \n",
      "2                             None             None   \n",
      "3                             None             None   \n",
      "4                             None             None   \n",
      "...                            ...              ...   \n",
      "206562                        None             None   \n",
      "206563                        None             None   \n",
      "206564                        None             None   \n",
      "206565                        None             None   \n",
      "206566                        None             None   \n",
      "\n",
      "       excess_mortality_cumulative_per_million  \n",
      "0                                         None  \n",
      "1                                         None  \n",
      "2                                         None  \n",
      "3                                         None  \n",
      "4                                         None  \n",
      "...                                        ...  \n",
      "206562                                    None  \n",
      "206563                                    None  \n",
      "206564                                    None  \n",
      "206565                                    None  \n",
      "206566                                    None  \n",
      "\n",
      "[206567 rows x 46 columns]>\n"
     ]
    },
    {
     "name": "stderr",
     "output_type": "stream",
     "text": [
      "c:\\Users\\Jen\\AppData\\Local\\Programs\\Python\\Python310\\lib\\site-packages\\pandas\\io\\sql.py:762: UserWarning: pandas only support SQLAlchemy connectable(engine/connection) ordatabase string URI or sqlite3 DBAPI2 connectionother DBAPI2 objects are not tested, please consider using SQLAlchemy\n",
      "  warnings.warn(\n"
     ]
    },
    {
     "name": "stdout",
     "output_type": "stream",
     "text": [
      "<bound method NDFrame.head of            Location        date  total_cases  new_cases total_deaths  \\\n",
      "0       Afghanistan  2020-02-24          5.0        5.0         None   \n",
      "1       Afghanistan  2020-02-25          5.0        0.0         None   \n",
      "2       Afghanistan  2020-02-26          5.0        0.0         None   \n",
      "3       Afghanistan  2020-02-27          5.0        0.0         None   \n",
      "4       Afghanistan  2020-02-28          5.0        0.0         None   \n",
      "...             ...         ...          ...        ...          ...   \n",
      "206562     Zimbabwe  2022-09-21     257156.0        0.0         5598   \n",
      "206563     Zimbabwe  2022-09-22     257259.0      103.0         5598   \n",
      "206564     Zimbabwe  2022-09-23     257289.0       30.0         5599   \n",
      "206565     Zimbabwe  2022-09-24     257318.0       29.0         5599   \n",
      "206566     Zimbabwe  2022-09-25     257340.0       22.0         5599   \n",
      "\n",
      "        population  \n",
      "0       40099462.0  \n",
      "1       40099462.0  \n",
      "2       40099462.0  \n",
      "3       40099462.0  \n",
      "4       40099462.0  \n",
      "...            ...  \n",
      "206562  15993524.0  \n",
      "206563  15993524.0  \n",
      "206564  15993524.0  \n",
      "206565  15993524.0  \n",
      "206566  15993524.0  \n",
      "\n",
      "[206567 rows x 6 columns]>\n"
     ]
    }
   ],
   "source": [
    "first_query = \"\"\"\n",
    "        Select * \n",
    "        From PortfolioProject..CovidDeaths\n",
    "        where continent is not null\n",
    "        order by 3,4\n",
    "        \"\"\" \n",
    "data = pd.read_sql(first_query, cnxn)\n",
    "print(data.head)\n",
    "\n",
    "second_query = \"\"\"\n",
    "        Select * \n",
    "        From PortfolioProject..CovidVaccinations\n",
    "        Where continent is not null\n",
    "        order by 3,4\n",
    "        \"\"\"\n",
    "data = pd.read_sql(second_query, cnxn)\n",
    "print(data.head)\n",
    "\n",
    "third_query = \"\"\"\n",
    "        Select Location, date, total_cases, new_cases, total_deaths, population\n",
    "        From PortfolioProject..CovidDeaths\n",
    "        Where continent is not null\n",
    "        order by 1,2\n",
    "        \"\"\"\n",
    "data = pd.read_sql(third_query, cnxn)\n",
    "print(data.head)"
   ]
  },
  {
   "cell_type": "markdown",
   "metadata": {},
   "source": [
    "#### Looking at Total Cases vs. Total Deaths\n",
    "#### Shows likelihood of dying if you contract COVID in the US."
   ]
  },
  {
   "cell_type": "code",
   "execution_count": null,
   "metadata": {},
   "outputs": [],
   "source": [
    "query_deathlikelihood_us = \"\"\"\n",
    "    Select Location, date, total_cases, total_deaths, (total_deaths/total_cases)*100 AS DeathPercentage\n",
    "    From PortfolioProject..CovidDeaths\n",
    "    where Location like '%states%'\n",
    "    Where continent is not null\n",
    "    order by 1,2\n",
    "    \"\"\"\n",
    "deathlikelihood_us = pd.read_sql(query_deathlikelihood_us, cnxn)\n",
    "print(ddeathlikelihood_usata.head)"
   ]
  },
  {
   "cell_type": "markdown",
   "metadata": {},
   "source": [
    "#### Looking at Total Cases vs. Population."
   ]
  },
  {
   "cell_type": "code",
   "execution_count": 7,
   "metadata": {},
   "outputs": [
    {
     "name": "stderr",
     "output_type": "stream",
     "text": [
      "c:\\Users\\Jen\\AppData\\Local\\Programs\\Python\\Python310\\lib\\site-packages\\pandas\\io\\sql.py:762: UserWarning: pandas only support SQLAlchemy connectable(engine/connection) ordatabase string URI or sqlite3 DBAPI2 connectionother DBAPI2 objects are not tested, please consider using SQLAlchemy\n",
      "  warnings.warn(\n"
     ]
    },
    {
     "name": "stdout",
     "output_type": "stream",
     "text": [
      "<bound method NDFrame.head of            Location        date  total_cases  population  CasePercentage\n",
      "0       Afghanistan  2020-02-24          5.0  40099462.0        0.000012\n",
      "1       Afghanistan  2020-02-25          5.0  40099462.0        0.000012\n",
      "2       Afghanistan  2020-02-26          5.0  40099462.0        0.000012\n",
      "3       Afghanistan  2020-02-27          5.0  40099462.0        0.000012\n",
      "4       Afghanistan  2020-02-28          5.0  40099462.0        0.000012\n",
      "...             ...         ...          ...         ...             ...\n",
      "206562     Zimbabwe  2022-09-21     257156.0  15993524.0        1.607876\n",
      "206563     Zimbabwe  2022-09-22     257259.0  15993524.0        1.608520\n",
      "206564     Zimbabwe  2022-09-23     257289.0  15993524.0        1.608707\n",
      "206565     Zimbabwe  2022-09-24     257318.0  15993524.0        1.608889\n",
      "206566     Zimbabwe  2022-09-25     257340.0  15993524.0        1.609026\n",
      "\n",
      "[206567 rows x 5 columns]>\n"
     ]
    }
   ],
   "source": [
    "query_case_v_population = \"\"\"\n",
    "    Select Location, date, total_cases, population, (total_cases/population)*100 as CasePercentage\n",
    "    From PortfolioProject..CovidDeaths\n",
    "    Where continent is not null\n",
    "    order by 1,2\n",
    "    \"\"\"\n",
    "case_v_population = pd.read_sql(query_case_v_population, cnxn)\n",
    "print(case_v_population.head)"
   ]
  },
  {
   "cell_type": "markdown",
   "metadata": {},
   "source": [
    "#### Looking at Countries with Highest Infection Rate Compared to Populations"
   ]
  },
  {
   "cell_type": "code",
   "execution_count": 9,
   "metadata": {},
   "outputs": [
    {
     "name": "stdout",
     "output_type": "stream",
     "text": [
      "<bound method NDFrame.head of                          Location  population  HighestInfectionCount  \\\n",
      "0                  Faeroe Islands     52888.0                34658.0   \n",
      "1                          Cyprus    896007.0               585313.0   \n",
      "2                       Gibraltar     32670.0                20092.0   \n",
      "3                      San Marino     33746.0                20646.0   \n",
      "4                         Andorra     79034.0                46147.0   \n",
      "..                            ...         ...                    ...   \n",
      "226                          Guam    170534.0                    NaN   \n",
      "227      Northern Mariana Islands     49481.0                    NaN   \n",
      "228  United States Virgin Islands    100091.0                    NaN   \n",
      "229                   Puerto Rico   3256028.0                    NaN   \n",
      "230     Sint Maarten (Dutch part)     44042.0                    NaN   \n",
      "\n",
      "     PercentPopulationInfected  \n",
      "0                    65.530933  \n",
      "1                    65.324601  \n",
      "2                    61.499847  \n",
      "3                    61.180584  \n",
      "4                    58.388795  \n",
      "..                         ...  \n",
      "226                        NaN  \n",
      "227                        NaN  \n",
      "228                        NaN  \n",
      "229                        NaN  \n",
      "230                        NaN  \n",
      "\n",
      "[231 rows x 4 columns]>\n"
     ]
    },
    {
     "name": "stderr",
     "output_type": "stream",
     "text": [
      "c:\\Users\\Jen\\AppData\\Local\\Programs\\Python\\Python310\\lib\\site-packages\\pandas\\io\\sql.py:762: UserWarning: pandas only support SQLAlchemy connectable(engine/connection) ordatabase string URI or sqlite3 DBAPI2 connectionother DBAPI2 objects are not tested, please consider using SQLAlchemy\n",
      "  warnings.warn(\n"
     ]
    }
   ],
   "source": [
    "query_max_infection_Rate_v_Population = \"\"\"\n",
    "    Select Location, population, MAX(total_cases) as HighestInfectionCount, Max(total_cases/population)*100 as PercentPopulationInfected\n",
    "    From PortfolioProject..CovidDeaths\n",
    "    Where continent is not null\n",
    "    Group by Location, Population\n",
    "    order by PercentPopulationInfected desc\n",
    "    \"\"\"\n",
    "max_infection_Rate_v_Population = pd.read_sql(query_max_infection_Rate_v_Population, cnxn)\n",
    "print(max_infection_Rate_v_Population.head)"
   ]
  },
  {
   "cell_type": "markdown",
   "metadata": {},
   "source": [
    "#### Showing Countries with Highest Death Count per Population"
   ]
  },
  {
   "cell_type": "code",
   "execution_count": null,
   "metadata": {},
   "outputs": [],
   "source": [
    "query_highest_death_count_per_pop = \"\"\"\n",
    "    Select Location, MAX(cast(total_deaths as int)) as TotalDeathCount\n",
    "    From PortfolioProject..CovidDeaths\n",
    "    Where continent is not null\n",
    "    Group by Location\n",
    "    order by TotalDeathCount desc\n",
    "\"\"\"\n",
    "\n",
    "highest_death_count_per_pop = pd.read_sql(query_max_infection_Rate_v_Population, cnxn)\n",
    "print(highest_death_count_per_pop.head)"
   ]
  },
  {
   "cell_type": "markdown",
   "metadata": {},
   "source": [
    "#### Break things down by continent"
   ]
  },
  {
   "cell_type": "code",
   "execution_count": 10,
   "metadata": {},
   "outputs": [
    {
     "name": "stdout",
     "output_type": "stream",
     "text": [
      "<bound method NDFrame.head of        continent  TotalDeathCount\n",
      "0  North America          1056416\n",
      "1  South America           685750\n",
      "2           Asia           528530\n",
      "3         Europe           378935\n",
      "4         Africa           102169\n",
      "5        Oceania            14928>\n"
     ]
    },
    {
     "name": "stderr",
     "output_type": "stream",
     "text": [
      "c:\\Users\\Jen\\AppData\\Local\\Programs\\Python\\Python310\\lib\\site-packages\\pandas\\io\\sql.py:762: UserWarning: pandas only support SQLAlchemy connectable(engine/connection) ordatabase string URI or sqlite3 DBAPI2 connectionother DBAPI2 objects are not tested, please consider using SQLAlchemy\n",
      "  warnings.warn(\n"
     ]
    }
   ],
   "source": [
    "query_continent_v_death = \"\"\"\n",
    "    Select continent, MAX(cast(total_deaths as int)) as TotalDeathCount\n",
    "    From PortfolioProject..CovidDeaths\n",
    "    Where continent is not null\n",
    "    Group by continent\n",
    "    Order by TotalDeathCount desc\n",
    "    \"\"\"\n",
    "continent_v_death = pd.read_sql(query_continent_v_death, cnxn)\n",
    "print(continent_v_death.head)"
   ]
  },
  {
   "cell_type": "markdown",
   "metadata": {},
   "source": [
    "#### GLOBAL NUMBERS"
   ]
  },
  {
   "cell_type": "code",
   "execution_count": 11,
   "metadata": {},
   "outputs": [
    {
     "name": "stdout",
     "output_type": "stream",
     "text": [
      "<bound method NDFrame.head of            date  total_cases  total_deaths  DeathPercentage\n",
      "0    2020-01-01          NaN           NaN              NaN\n",
      "1    2020-01-02          NaN           NaN              NaN\n",
      "2    2020-01-03          NaN           NaN              NaN\n",
      "3    2020-01-04          NaN           NaN              NaN\n",
      "4    2020-01-05          NaN           NaN              NaN\n",
      "..          ...          ...           ...              ...\n",
      "994  2022-09-21     516336.0        1998.0         0.386957\n",
      "995  2022-09-22     612301.0        2458.0         0.401437\n",
      "996  2022-09-23     514567.0        1823.0         0.354278\n",
      "997  2022-09-24     262296.0         741.0         0.282505\n",
      "998  2022-09-25     221691.0         456.0         0.205692\n",
      "\n",
      "[999 rows x 4 columns]>\n",
      "<bound method NDFrame.head of    total_cases  total_deaths  DeathPercentage\n",
      "0  613366757.0       6498531         1.059485>\n"
     ]
    },
    {
     "name": "stderr",
     "output_type": "stream",
     "text": [
      "c:\\Users\\Jen\\AppData\\Local\\Programs\\Python\\Python310\\lib\\site-packages\\pandas\\io\\sql.py:762: UserWarning: pandas only support SQLAlchemy connectable(engine/connection) ordatabase string URI or sqlite3 DBAPI2 connectionother DBAPI2 objects are not tested, please consider using SQLAlchemy\n",
      "  warnings.warn(\n",
      "c:\\Users\\Jen\\AppData\\Local\\Programs\\Python\\Python310\\lib\\site-packages\\pandas\\io\\sql.py:762: UserWarning: pandas only support SQLAlchemy connectable(engine/connection) ordatabase string URI or sqlite3 DBAPI2 connectionother DBAPI2 objects are not tested, please consider using SQLAlchemy\n",
      "  warnings.warn(\n"
     ]
    }
   ],
   "source": [
    "query_daily_global_deaths = \"\"\"\n",
    "    Select date, sum(new_cases) as total_cases, sum(cast(new_deaths as int)) as total_deaths, SUM(cast(new_deaths as int))/SUM(new_cases)*100 as DeathPercentage\n",
    "    From PortfolioProject..CovidDeaths\n",
    "    where continent is not null\n",
    "    group by date\n",
    "    order by 1,2\n",
    "    \"\"\"\n",
    "daily_global_deaths = pd.read_sql(query_daily_global_deaths, cnxn)\n",
    "print(daily_global_deaths.head)\n",
    "\n",
    "query_global_deaths_and_cases = \"\"\"\n",
    "    Select sum(new_cases) as total_cases, sum(cast(new_deaths as int)) as total_deaths, SUM(cast(new_deaths as int))/SUM(new_cases)*100 as DeathPercentage\n",
    "    From PortfolioProject..CovidDeaths\n",
    "    where continent is not null\n",
    "    order by 1,2\n",
    "    \"\"\"\n",
    "global_deaths_and_cases = pd.read_sql(query_global_deaths_and_cases, cnxn)\n",
    "print(global_deaths_and_cases.head)"
   ]
  },
  {
   "cell_type": "markdown",
   "metadata": {},
   "source": [
    "#### Looking at Total Population versus Vaccinations"
   ]
  },
  {
   "cell_type": "code",
   "execution_count": 16,
   "metadata": {},
   "outputs": [
    {
     "name": "stdout",
     "output_type": "stream",
     "text": [
      "<bound method NDFrame.head of        continent     location        date  population  cumulative_vaccination  \\\n",
      "0           Asia  Afghanistan  2020-02-24  40099462.0                     NaN   \n",
      "1           Asia  Afghanistan  2020-02-25  40099462.0                     NaN   \n",
      "2           Asia  Afghanistan  2020-02-26  40099462.0                     NaN   \n",
      "3           Asia  Afghanistan  2020-02-27  40099462.0                     NaN   \n",
      "4           Asia  Afghanistan  2020-02-28  40099462.0                     NaN   \n",
      "...          ...          ...         ...         ...                     ...   \n",
      "206562    Africa     Zimbabwe  2022-09-21  15993524.0              10767732.0   \n",
      "206563    Africa     Zimbabwe  2022-09-22  15993524.0              10767732.0   \n",
      "206564    Africa     Zimbabwe  2022-09-23  15993524.0              10767732.0   \n",
      "206565    Africa     Zimbabwe  2022-09-24  15993524.0              10767732.0   \n",
      "206566    Africa     Zimbabwe  2022-09-25  15993524.0              10767732.0   \n",
      "\n",
      "        cumulative_deaths  \n",
      "0                     NaN  \n",
      "1                     NaN  \n",
      "2                     NaN  \n",
      "3                     NaN  \n",
      "4                     NaN  \n",
      "...                   ...  \n",
      "206562             5598.0  \n",
      "206563             5598.0  \n",
      "206564             5599.0  \n",
      "206565             5599.0  \n",
      "206566             5599.0  \n",
      "\n",
      "[206567 rows x 6 columns]>\n"
     ]
    }
   ],
   "source": [
    "query_total_pop_v_vac = \"\"\"\n",
    "    Select dea.continent, dea.location, dea.date, dea.population,  \n",
    "    SUM(cast(vac.new_vaccinations as BIGINT)) OVER (Partition by dea.Location Order by dea.location, dea.date) as cumulative_vaccination, \n",
    "    sum(cast(dea.new_deaths as BIGINT)) OVER (partition by dea.Location Order by dea.location, dea.date) as cumulative_deaths\n",
    "    From PortfolioProject..CovidDeaths dea\n",
    "    Join PortfolioProject..CovidVaccinations vac\n",
    "    on dea.location = vac.location\n",
    "    and dea.date = vac.date\n",
    "    where dea.continent is not null\n",
    "    order by 2,3\n",
    "    \"\"\"\n",
    "total_pop_v_vac = pd.read_sql(query_total_pop_v_vac, cnxn)\n",
    "print(total_pop_v_vac.head)"
   ]
  }
 ],
 "metadata": {
  "kernelspec": {
   "display_name": "Python 3.10.6 64-bit",
   "language": "python",
   "name": "python3"
  },
  "language_info": {
   "codemirror_mode": {
    "name": "ipython",
    "version": 3
   },
   "file_extension": ".py",
   "mimetype": "text/x-python",
   "name": "python",
   "nbconvert_exporter": "python",
   "pygments_lexer": "ipython3",
   "version": "3.10.6"
  },
  "orig_nbformat": 4,
  "vscode": {
   "interpreter": {
    "hash": "390fbb69812d601ec0976aa52bf2d5a3b84f91a4eff3377650e84b76eb0be6d6"
   }
  }
 },
 "nbformat": 4,
 "nbformat_minor": 2
}
