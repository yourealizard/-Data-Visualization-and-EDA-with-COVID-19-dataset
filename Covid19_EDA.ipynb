{
 "cells": [
  {
   "cell_type": "markdown",
   "metadata": {},
   "source": [
    "# COVID-19 Data Visualization and Exploratory Data Analysis"
   ]
  },
  {
   "cell_type": "markdown",
   "metadata": {},
   "source": [
    "## Data Source\n",
    "The following is a portfolio project in which the Our World in Data Covid-19 dataset is explored.  A copy of the dataset can be found at [this site](https://github.com/owid/covid-19-data/tree/master/public/data).\n",
    "\n",
    "The data comes from the COVID-19 Data Repository by the Center of Systems Science and Engineering (CSSE) at Johns Hopkins University.  The dataset contains data regarding confirmed cases and deaths, hospitalizations, testing for COVID-19, vaccinations against COVID-19, and other variables.  In this notebook, we will perform exploratory data analysis on the COVID-19 dataset.  Run the code snippet below to prepare this Jupyter notebook."
   ]
  },
  {
   "cell_type": "markdown",
   "metadata": {},
   "source": [
    "## Data Ingestion\n",
    "Ingested the data into a SQL server instance.  The data should have two tables: CovidDeaths and CovidVaccinations.  Alternatively, use the code below to create the database in your SQL server instance."
   ]
  },
  {
   "cell_type": "markdown",
   "metadata": {},
   "source": [
    "### CovidDeaths spreadsheet fields: \n",
    "The CovidDeaths spreadsheet file should have these fields in the following order:\n",
    "\n",
    "iso_code, continent, location, date, population, total_cases, new_cases, new_cases_smoothed, total_deaths, new_deaths, new_deaths_smoothed, total_cases_per_million, new_cases_per_million, new_cases_smoothed_per_million, total_deaths_per_million, new_deaths_per_million, new_deaths_smoothed_per_million, reproduction_rate, icu_patients, icu_patients_per_million, hosp_patients, hosp_patients_per_million, weekly_icu_admissions, weekly_icu_admissions_per_million, weekly_hosp_admissions, weekly_hosp_admissions_per_million, total_tests\n",
    "\n",
    "### CovidVaccination spreadsheet fields: \n",
    "The CovidVaccination spreadsheet file should have these fields in the following order:\n",
    "\n",
    "iso_code, continent, location, date, total_tests, new_tests, total_tests_per_thousand, new_tests_per_thousand, new_tests_smoothed, new_tests_smoothed_per_thousand, positive_rate, tests_per_case, tests_units, total_vaccinations, people_vaccinated, people_fully_vaccinated, total_boosters, new_vaccinations, new_vaccinations_smoothed, total_vaccinations_per_hundred, people_vaccinated_per_hundred, people_fully_vaccinated_per_hundred, total_boosters_per_hundred, new_vaccinations_smoothed_per_million, new_people_vaccinated_smoothed, new_people_vaccinated_smoothed_per_hundred, stringency_index, population, population_density, median_age, aged_65_older, aged_70_older, gdp_per_capita, extreme_poverty, cardiovasc_death_rate, diabetes_prevalence, female_smokers, male_smokers, handwashing_facilities, hospital_beds_per_thousand, life_expectancy, human_development_index, excess_mortality_cumulative_absolute, excess_mortality_cumulative, excess_mortality, excess_mortality_cumulative_per_million\n",
    "\n",
    "Finally, import these two files to create two tables: PorfolioProject..CovidDeaths and PorfolioProject..CovidVaccination\n",
    "\n",
    "## Connect to the database\n",
    "Finally, connect to the database that has been created and next we will explore the data set!"
   ]
  },
  {
   "cell_type": "code",
   "execution_count": 4,
   "metadata": {},
   "outputs": [],
   "source": [
    "# import packages\n",
    "\n",
    "import seaborn as sns\n",
    "import matplotlib.pyplot as plt\n",
    "import pyodbc\n",
    "import pandas as pd\n",
    "\n",
    "#connect to the db\n",
    "cnxn_str = (\"Driver={SQL Server Native Client 11.0};\"\n",
    "            \"Server=EnterYourServerNameHere;\"\n",
    "            \"Database=EnterYourDBNameHere;\"\n",
    "            \"UID=EnterYourUserNameHere;\"\n",
    "            \"PWD=EnterYourPWHere;\")\n",
    "cnxn = pyodbc.connect(cnxn_str)"
   ]
  },
  {
   "cell_type": "markdown",
   "metadata": {},
   "source": [
    "## EDA\n",
    "Code for the exploratory data analysis on COVID dataset is below.\n",
    "#### First exploration of CovidDeaths and CovidVaccinations dataset.\n"
   ]
  },
  {
   "cell_type": "code",
   "execution_count": 115,
   "metadata": {},
   "outputs": [
    {
     "name": "stderr",
     "output_type": "stream",
     "text": [
      "c:\\Users\\Jen\\AppData\\Local\\Programs\\Python\\Python310\\lib\\site-packages\\pandas\\io\\sql.py:762: UserWarning:\n",
      "\n",
      "pandas only support SQLAlchemy connectable(engine/connection) ordatabase string URI or sqlite3 DBAPI2 connectionother DBAPI2 objects are not tested, please consider using SQLAlchemy\n",
      "\n"
     ]
    },
    {
     "name": "stdout",
     "output_type": "stream",
     "text": [
      "<bound method NDFrame.head of        iso_code continent     location        date  population  total_cases  \\\n",
      "0           AFG      Asia  Afghanistan  2020-02-24  40099462.0          5.0   \n",
      "1           AFG      Asia  Afghanistan  2020-02-25  40099462.0          5.0   \n",
      "2           AFG      Asia  Afghanistan  2020-02-26  40099462.0          5.0   \n",
      "3           AFG      Asia  Afghanistan  2020-02-27  40099462.0          5.0   \n",
      "4           AFG      Asia  Afghanistan  2020-02-28  40099462.0          5.0   \n",
      "...         ...       ...          ...         ...         ...          ...   \n",
      "206562      ZWE    Africa     Zimbabwe  2022-09-21  15993524.0     257156.0   \n",
      "206563      ZWE    Africa     Zimbabwe  2022-09-22  15993524.0     257259.0   \n",
      "206564      ZWE    Africa     Zimbabwe  2022-09-23  15993524.0     257289.0   \n",
      "206565      ZWE    Africa     Zimbabwe  2022-09-24  15993524.0     257318.0   \n",
      "206566      ZWE    Africa     Zimbabwe  2022-09-25  15993524.0     257340.0   \n",
      "\n",
      "        new_cases  new_cases_smoothed total_deaths new_deaths  ...  \\\n",
      "0             5.0                 NaN         None       None  ...   \n",
      "1             0.0                 NaN         None       None  ...   \n",
      "2             0.0                 NaN         None       None  ...   \n",
      "3             0.0                 NaN         None       None  ...   \n",
      "4             0.0                 NaN         None       None  ...   \n",
      "...           ...                 ...          ...        ...  ...   \n",
      "206562        0.0              31.000         5598          0  ...   \n",
      "206563      103.0              45.714         5598          0  ...   \n",
      "206564       30.0              50.000         5599          1  ...   \n",
      "206565       29.0              47.143         5599          0  ...   \n",
      "206566       22.0              49.143         5599          0  ...   \n",
      "\n",
      "       reproduction_rate  icu_patients  icu_patients_per_million  \\\n",
      "0                   None          None                      None   \n",
      "1                   None          None                      None   \n",
      "2                   None          None                      None   \n",
      "3                   None          None                      None   \n",
      "4                   None          None                      None   \n",
      "...                  ...           ...                       ...   \n",
      "206562              None          None                      None   \n",
      "206563              None          None                      None   \n",
      "206564              None          None                      None   \n",
      "206565              None          None                      None   \n",
      "206566              None          None                      None   \n",
      "\n",
      "        hosp_patients hosp_patients_per_million weekly_icu_admissions  \\\n",
      "0                None                      None                  None   \n",
      "1                None                      None                  None   \n",
      "2                None                      None                  None   \n",
      "3                None                      None                  None   \n",
      "4                None                      None                  None   \n",
      "...               ...                       ...                   ...   \n",
      "206562           None                      None                  None   \n",
      "206563           None                      None                  None   \n",
      "206564           None                      None                  None   \n",
      "206565           None                      None                  None   \n",
      "206566           None                      None                  None   \n",
      "\n",
      "       weekly_icu_admissions_per_million weekly_hosp_admissions  \\\n",
      "0                                   None                   None   \n",
      "1                                   None                   None   \n",
      "2                                   None                   None   \n",
      "3                                   None                   None   \n",
      "4                                   None                   None   \n",
      "...                                  ...                    ...   \n",
      "206562                              None                   None   \n",
      "206563                              None                   None   \n",
      "206564                              None                   None   \n",
      "206565                              None                   None   \n",
      "206566                              None                   None   \n",
      "\n",
      "       weekly_hosp_admissions_per_million total_tests  \n",
      "0                                    None        None  \n",
      "1                                    None        None  \n",
      "2                                    None        None  \n",
      "3                                    None        None  \n",
      "4                                    None        None  \n",
      "...                                   ...         ...  \n",
      "206562                               None        None  \n",
      "206563                               None        None  \n",
      "206564                               None        None  \n",
      "206565                               None        None  \n",
      "206566                               None        None  \n",
      "\n",
      "[206567 rows x 27 columns]>\n"
     ]
    },
    {
     "name": "stderr",
     "output_type": "stream",
     "text": [
      "c:\\Users\\Jen\\AppData\\Local\\Programs\\Python\\Python310\\lib\\site-packages\\pandas\\io\\sql.py:762: UserWarning:\n",
      "\n",
      "pandas only support SQLAlchemy connectable(engine/connection) ordatabase string URI or sqlite3 DBAPI2 connectionother DBAPI2 objects are not tested, please consider using SQLAlchemy\n",
      "\n"
     ]
    },
    {
     "name": "stdout",
     "output_type": "stream",
     "text": [
      "<bound method NDFrame.head of        iso_code continent     location        date total_tests new_tests  \\\n",
      "0           AFG      Asia  Afghanistan  2020-02-24        None      None   \n",
      "1           AFG      Asia  Afghanistan  2020-02-25        None      None   \n",
      "2           AFG      Asia  Afghanistan  2020-02-26        None      None   \n",
      "3           AFG      Asia  Afghanistan  2020-02-27        None      None   \n",
      "4           AFG      Asia  Afghanistan  2020-02-28        None      None   \n",
      "...         ...       ...          ...         ...         ...       ...   \n",
      "206562      ZWE    Africa     Zimbabwe  2022-09-21        None      None   \n",
      "206563      ZWE    Africa     Zimbabwe  2022-09-22        None      None   \n",
      "206564      ZWE    Africa     Zimbabwe  2022-09-23        None      None   \n",
      "206565      ZWE    Africa     Zimbabwe  2022-09-24        None      None   \n",
      "206566      ZWE    Africa     Zimbabwe  2022-09-25        None      None   \n",
      "\n",
      "       total_tests_per_thousand new_tests_per_thousand new_tests_smoothed  \\\n",
      "0                          None                   None               None   \n",
      "1                          None                   None               None   \n",
      "2                          None                   None               None   \n",
      "3                          None                   None               None   \n",
      "4                          None                   None               None   \n",
      "...                         ...                    ...                ...   \n",
      "206562                     None                   None               None   \n",
      "206563                     None                   None               None   \n",
      "206564                     None                   None               None   \n",
      "206565                     None                   None               None   \n",
      "206566                     None                   None               None   \n",
      "\n",
      "       new_tests_smoothed_per_thousand  ... female_smokers male_smokers  \\\n",
      "0                                 None  ...           None         None   \n",
      "1                                 None  ...           None         None   \n",
      "2                                 None  ...           None         None   \n",
      "3                                 None  ...           None         None   \n",
      "4                                 None  ...           None         None   \n",
      "...                                ...  ...            ...          ...   \n",
      "206562                            None  ...            1.6         30.7   \n",
      "206563                            None  ...            1.6         30.7   \n",
      "206564                            None  ...            1.6         30.7   \n",
      "206565                            None  ...            1.6         30.7   \n",
      "206566                            None  ...            1.6         30.7   \n",
      "\n",
      "       handwashing_facilities hospital_beds_per_thousand life_expectancy  \\\n",
      "0                      37.746                        0.5           64.83   \n",
      "1                      37.746                        0.5           64.83   \n",
      "2                      37.746                        0.5           64.83   \n",
      "3                      37.746                        0.5           64.83   \n",
      "4                      37.746                        0.5           64.83   \n",
      "...                       ...                        ...             ...   \n",
      "206562                 36.791                        1.7           61.49   \n",
      "206563                 36.791                        1.7           61.49   \n",
      "206564                 36.791                        1.7           61.49   \n",
      "206565                 36.791                        1.7           61.49   \n",
      "206566                 36.791                        1.7           61.49   \n",
      "\n",
      "       human_development_index excess_mortality_cumulative_absolute  \\\n",
      "0                        0.511                                 None   \n",
      "1                        0.511                                 None   \n",
      "2                        0.511                                 None   \n",
      "3                        0.511                                 None   \n",
      "4                        0.511                                 None   \n",
      "...                        ...                                  ...   \n",
      "206562                   0.571                                 None   \n",
      "206563                   0.571                                 None   \n",
      "206564                   0.571                                 None   \n",
      "206565                   0.571                                 None   \n",
      "206566                   0.571                                 None   \n",
      "\n",
      "       excess_mortality_cumulative excess_mortality  \\\n",
      "0                             None             None   \n",
      "1                             None             None   \n",
      "2                             None             None   \n",
      "3                             None             None   \n",
      "4                             None             None   \n",
      "...                            ...              ...   \n",
      "206562                        None             None   \n",
      "206563                        None             None   \n",
      "206564                        None             None   \n",
      "206565                        None             None   \n",
      "206566                        None             None   \n",
      "\n",
      "       excess_mortality_cumulative_per_million  \n",
      "0                                         None  \n",
      "1                                         None  \n",
      "2                                         None  \n",
      "3                                         None  \n",
      "4                                         None  \n",
      "...                                        ...  \n",
      "206562                                    None  \n",
      "206563                                    None  \n",
      "206564                                    None  \n",
      "206565                                    None  \n",
      "206566                                    None  \n",
      "\n",
      "[206567 rows x 46 columns]>\n"
     ]
    },
    {
     "name": "stderr",
     "output_type": "stream",
     "text": [
      "c:\\Users\\Jen\\AppData\\Local\\Programs\\Python\\Python310\\lib\\site-packages\\pandas\\io\\sql.py:762: UserWarning:\n",
      "\n",
      "pandas only support SQLAlchemy connectable(engine/connection) ordatabase string URI or sqlite3 DBAPI2 connectionother DBAPI2 objects are not tested, please consider using SQLAlchemy\n",
      "\n"
     ]
    },
    {
     "name": "stdout",
     "output_type": "stream",
     "text": [
      "<bound method NDFrame.head of            Location        date  total_cases  new_cases total_deaths  \\\n",
      "0       Afghanistan  2020-02-24          5.0        5.0         None   \n",
      "1       Afghanistan  2020-02-25          5.0        0.0         None   \n",
      "2       Afghanistan  2020-02-26          5.0        0.0         None   \n",
      "3       Afghanistan  2020-02-27          5.0        0.0         None   \n",
      "4       Afghanistan  2020-02-28          5.0        0.0         None   \n",
      "...             ...         ...          ...        ...          ...   \n",
      "206562     Zimbabwe  2022-09-21     257156.0        0.0         5598   \n",
      "206563     Zimbabwe  2022-09-22     257259.0      103.0         5598   \n",
      "206564     Zimbabwe  2022-09-23     257289.0       30.0         5599   \n",
      "206565     Zimbabwe  2022-09-24     257318.0       29.0         5599   \n",
      "206566     Zimbabwe  2022-09-25     257340.0       22.0         5599   \n",
      "\n",
      "        population  \n",
      "0       40099462.0  \n",
      "1       40099462.0  \n",
      "2       40099462.0  \n",
      "3       40099462.0  \n",
      "4       40099462.0  \n",
      "...            ...  \n",
      "206562  15993524.0  \n",
      "206563  15993524.0  \n",
      "206564  15993524.0  \n",
      "206565  15993524.0  \n",
      "206566  15993524.0  \n",
      "\n",
      "[206567 rows x 6 columns]>\n"
     ]
    }
   ],
   "source": [
    "first_query = \"\"\"\n",
    "        Select * \n",
    "        From PortfolioProject..CovidDeaths\n",
    "        where continent is not null\n",
    "        order by 3,4\n",
    "        \"\"\" \n",
    "data = pd.read_sql(first_query, cnxn)\n",
    "print(data.head)\n",
    "\n",
    "second_query = \"\"\"\n",
    "        Select * \n",
    "        From PortfolioProject..CovidVaccinations\n",
    "        Where continent is not null\n",
    "        order by 3,4\n",
    "        \"\"\"\n",
    "data = pd.read_sql(second_query, cnxn)\n",
    "print(data.head)\n",
    "\n",
    "third_query = \"\"\"\n",
    "        Select Location, date, total_cases, new_cases, total_deaths, population\n",
    "        From PortfolioProject..CovidDeaths\n",
    "        Where continent is not null\n",
    "        order by 1,2\n",
    "        \"\"\"\n",
    "data = pd.read_sql(third_query, cnxn)\n",
    "print(data.head)"
   ]
  },
  {
   "cell_type": "markdown",
   "metadata": {},
   "source": [
    "#### Looking at Total Cases vs. Total Deaths\n",
    "#### Shows likelihood of dying if you contract COVID in the US."
   ]
  },
  {
   "cell_type": "code",
   "execution_count": 116,
   "metadata": {},
   "outputs": [
    {
     "name": "stdout",
     "output_type": "stream",
     "text": [
      "<bound method NDFrame.head of                           Location        date  total_cases total_deaths  \\\n",
      "0                    United States  2020-01-22          1.0         None   \n",
      "1                    United States  2020-01-23          1.0         None   \n",
      "2                    United States  2020-01-24          2.0         None   \n",
      "3                    United States  2020-01-25          2.0         None   \n",
      "4                    United States  2020-01-26          5.0         None   \n",
      "...                            ...         ...          ...          ...   \n",
      "1791  United States Virgin Islands  2022-06-15          NaN         None   \n",
      "1792  United States Virgin Islands  2022-06-16          NaN         None   \n",
      "1793  United States Virgin Islands  2022-06-17          NaN         None   \n",
      "1794  United States Virgin Islands  2022-06-18          NaN         None   \n",
      "1795  United States Virgin Islands  2022-06-19          NaN         None   \n",
      "\n",
      "      DeathPercentage  \n",
      "0                 NaN  \n",
      "1                 NaN  \n",
      "2                 NaN  \n",
      "3                 NaN  \n",
      "4                 NaN  \n",
      "...               ...  \n",
      "1791              NaN  \n",
      "1792              NaN  \n",
      "1793              NaN  \n",
      "1794              NaN  \n",
      "1795              NaN  \n",
      "\n",
      "[1796 rows x 5 columns]>\n"
     ]
    },
    {
     "name": "stderr",
     "output_type": "stream",
     "text": [
      "c:\\Users\\Jen\\AppData\\Local\\Programs\\Python\\Python310\\lib\\site-packages\\pandas\\io\\sql.py:762: UserWarning:\n",
      "\n",
      "pandas only support SQLAlchemy connectable(engine/connection) ordatabase string URI or sqlite3 DBAPI2 connectionother DBAPI2 objects are not tested, please consider using SQLAlchemy\n",
      "\n"
     ]
    }
   ],
   "source": [
    "query_deathlikelihood_us = \"\"\"\n",
    "    Select Location, date, total_cases, total_deaths, (total_deaths/total_cases)*100 AS DeathPercentage\n",
    "    From PortfolioProject..CovidDeaths\n",
    "    where Location like '%states%' and continent is not null\n",
    "    order by 1,2\n",
    "    \"\"\"\n",
    "deathlikelihood_us = pd.read_sql(query_deathlikelihood_us, cnxn)\n",
    "print(deathlikelihood_us.head)"
   ]
  },
  {
   "cell_type": "markdown",
   "metadata": {},
   "source": [
    "#### Looking at Total Cases vs. Population."
   ]
  },
  {
   "cell_type": "code",
   "execution_count": 11,
   "metadata": {},
   "outputs": [
    {
     "name": "stderr",
     "output_type": "stream",
     "text": [
      "c:\\Users\\Jen\\AppData\\Local\\Programs\\Python\\Python310\\lib\\site-packages\\pandas\\io\\sql.py:762: UserWarning:\n",
      "\n",
      "pandas only support SQLAlchemy connectable(engine/connection) ordatabase string URI or sqlite3 DBAPI2 connectionother DBAPI2 objects are not tested, please consider using SQLAlchemy\n",
      "\n"
     ]
    },
    {
     "name": "stdout",
     "output_type": "stream",
     "text": [
      "<bound method NDFrame.head of            Location        date  total_cases  population  CasePercentage\n",
      "0       Afghanistan  2020-02-24          5.0  40099462.0        0.000012\n",
      "1       Afghanistan  2020-02-25          5.0  40099462.0        0.000012\n",
      "2       Afghanistan  2020-02-26          5.0  40099462.0        0.000012\n",
      "3       Afghanistan  2020-02-27          5.0  40099462.0        0.000012\n",
      "4       Afghanistan  2020-02-28          5.0  40099462.0        0.000012\n",
      "...             ...         ...          ...         ...             ...\n",
      "206562     Zimbabwe  2022-09-21     257156.0  15993524.0        1.607876\n",
      "206563     Zimbabwe  2022-09-22     257259.0  15993524.0        1.608520\n",
      "206564     Zimbabwe  2022-09-23     257289.0  15993524.0        1.608707\n",
      "206565     Zimbabwe  2022-09-24     257318.0  15993524.0        1.608889\n",
      "206566     Zimbabwe  2022-09-25     257340.0  15993524.0        1.609026\n",
      "\n",
      "[206567 rows x 5 columns]>\n"
     ]
    }
   ],
   "source": [
    "query_case_v_population = \"\"\"\n",
    "    Select Location, date, total_cases, population, (total_cases/population)*100 as CasePercentage\n",
    "    From PortfolioProject..CovidDeaths\n",
    "    Where continent is not null\n",
    "    order by 1,2\n",
    "    \"\"\"\n",
    "case_v_population = pd.read_sql(query_case_v_population, cnxn)\n",
    "print(case_v_population.head)"
   ]
  },
  {
   "cell_type": "markdown",
   "metadata": {},
   "source": [
    "#### Looking at Countries with Highest Infection Rate Compared to Populations"
   ]
  },
  {
   "cell_type": "code",
   "execution_count": 5,
   "metadata": {},
   "outputs": [
    {
     "name": "stdout",
     "output_type": "stream",
     "text": [
      "<bound method NDFrame.head of                          Location  population  HighestInfectionCount  \\\n",
      "0                  Faeroe Islands     52888.0                34658.0   \n",
      "1                          Cyprus    896007.0               585313.0   \n",
      "2                       Gibraltar     32670.0                20092.0   \n",
      "3                      San Marino     33746.0                20646.0   \n",
      "4                         Andorra     79034.0                46147.0   \n",
      "..                            ...         ...                    ...   \n",
      "226  United States Virgin Islands    100091.0                    NaN   \n",
      "227                        Jersey    109618.0                    NaN   \n",
      "228     Sint Maarten (Dutch part)     44042.0                    NaN   \n",
      "229                Western Sahara    565581.0                    NaN   \n",
      "230                          Niue      1937.0                    NaN   \n",
      "\n",
      "     PercentPopulationInfected  \n",
      "0                    65.530933  \n",
      "1                    65.324601  \n",
      "2                    61.499847  \n",
      "3                    61.180584  \n",
      "4                    58.388795  \n",
      "..                         ...  \n",
      "226                        NaN  \n",
      "227                        NaN  \n",
      "228                        NaN  \n",
      "229                        NaN  \n",
      "230                        NaN  \n",
      "\n",
      "[231 rows x 4 columns]>\n"
     ]
    },
    {
     "name": "stderr",
     "output_type": "stream",
     "text": [
      "c:\\Users\\Jen\\AppData\\Local\\Programs\\Python\\Python310\\lib\\site-packages\\pandas\\io\\sql.py:762: UserWarning: pandas only support SQLAlchemy connectable(engine/connection) ordatabase string URI or sqlite3 DBAPI2 connectionother DBAPI2 objects are not tested, please consider using SQLAlchemy\n",
      "  warnings.warn(\n"
     ]
    }
   ],
   "source": [
    "query_max_infection_Rate_v_Population = \"\"\"\n",
    "    Select Location, population, MAX(total_cases) as HighestInfectionCount, Max(total_cases/population)*100 as PercentPopulationInfected\n",
    "    From PortfolioProject..CovidDeaths\n",
    "    Where continent is not null\n",
    "    Group by Location, Population\n",
    "    order by PercentPopulationInfected desc\n",
    "    \"\"\"\n",
    "max_infection_Rate_v_Population = pd.read_sql(query_max_infection_Rate_v_Population, cnxn)\n",
    "print(max_infection_Rate_v_Population.head)"
   ]
  },
  {
   "cell_type": "markdown",
   "metadata": {},
   "source": [
    "#### Showing Countries with Highest Death Count per Population"
   ]
  },
  {
   "cell_type": "code",
   "execution_count": 119,
   "metadata": {},
   "outputs": [
    {
     "name": "stdout",
     "output_type": "stream",
     "text": [
      "<bound method NDFrame.head of                          Location  TotalDeathCount\n",
      "0                   United States        1056416.0\n",
      "1                          Brazil         685750.0\n",
      "2                           India         528530.0\n",
      "3                          Russia         378935.0\n",
      "4                          Mexico         330043.0\n",
      "..                            ...              ...\n",
      "226                        Jersey              NaN\n",
      "227     Sint Maarten (Dutch part)              NaN\n",
      "228                       Vatican              NaN\n",
      "229  United States Virgin Islands              NaN\n",
      "230                  Turkmenistan              NaN\n",
      "\n",
      "[231 rows x 2 columns]>\n"
     ]
    },
    {
     "name": "stderr",
     "output_type": "stream",
     "text": [
      "c:\\Users\\Jen\\AppData\\Local\\Programs\\Python\\Python310\\lib\\site-packages\\pandas\\io\\sql.py:762: UserWarning:\n",
      "\n",
      "pandas only support SQLAlchemy connectable(engine/connection) ordatabase string URI or sqlite3 DBAPI2 connectionother DBAPI2 objects are not tested, please consider using SQLAlchemy\n",
      "\n"
     ]
    }
   ],
   "source": [
    "query_highest_death_count_per_pop = \"\"\"\n",
    "    Select Location, MAX(cast(total_deaths as int)) as TotalDeathCount\n",
    "    From PortfolioProject..CovidDeaths\n",
    "    Where continent is not null\n",
    "    Group by Location\n",
    "    order by TotalDeathCount desc\n",
    "\"\"\"\n",
    "\n",
    "highest_death_count_per_pop = pd.read_sql(query_highest_death_count_per_pop, cnxn)\n",
    "print(highest_death_count_per_pop.head)"
   ]
  },
  {
   "cell_type": "markdown",
   "metadata": {},
   "source": [
    "#### Break things down by continent"
   ]
  },
  {
   "cell_type": "code",
   "execution_count": 120,
   "metadata": {},
   "outputs": [
    {
     "name": "stdout",
     "output_type": "stream",
     "text": [
      "<bound method NDFrame.head of        continent  TotalDeathCount\n",
      "0  North America          1056416\n",
      "1  South America           685750\n",
      "2           Asia           528530\n",
      "3         Europe           378935\n",
      "4         Africa           102169\n",
      "5        Oceania            14928>\n"
     ]
    },
    {
     "name": "stderr",
     "output_type": "stream",
     "text": [
      "c:\\Users\\Jen\\AppData\\Local\\Programs\\Python\\Python310\\lib\\site-packages\\pandas\\io\\sql.py:762: UserWarning:\n",
      "\n",
      "pandas only support SQLAlchemy connectable(engine/connection) ordatabase string URI or sqlite3 DBAPI2 connectionother DBAPI2 objects are not tested, please consider using SQLAlchemy\n",
      "\n"
     ]
    }
   ],
   "source": [
    "query_continent_v_death = \"\"\"\n",
    "    Select continent, MAX(cast(total_deaths as int)) as TotalDeathCount\n",
    "    From PortfolioProject..CovidDeaths\n",
    "    Where continent is not null\n",
    "    Group by continent\n",
    "    Order by TotalDeathCount desc\n",
    "    \"\"\"\n",
    "continent_v_death = pd.read_sql(query_continent_v_death, cnxn)\n",
    "print(continent_v_death.head)"
   ]
  },
  {
   "cell_type": "markdown",
   "metadata": {},
   "source": [
    "#### GLOBAL NUMBERS"
   ]
  },
  {
   "cell_type": "code",
   "execution_count": 121,
   "metadata": {},
   "outputs": [
    {
     "name": "stderr",
     "output_type": "stream",
     "text": [
      "c:\\Users\\Jen\\AppData\\Local\\Programs\\Python\\Python310\\lib\\site-packages\\pandas\\io\\sql.py:762: UserWarning:\n",
      "\n",
      "pandas only support SQLAlchemy connectable(engine/connection) ordatabase string URI or sqlite3 DBAPI2 connectionother DBAPI2 objects are not tested, please consider using SQLAlchemy\n",
      "\n"
     ]
    },
    {
     "name": "stdout",
     "output_type": "stream",
     "text": [
      "<bound method NDFrame.head of            date  total_cases  total_deaths  DeathPercentage\n",
      "0    2020-01-01          NaN           NaN              NaN\n",
      "1    2020-01-02          NaN           NaN              NaN\n",
      "2    2020-01-03          NaN           NaN              NaN\n",
      "3    2020-01-04          NaN           NaN              NaN\n",
      "4    2020-01-05          NaN           NaN              NaN\n",
      "..          ...          ...           ...              ...\n",
      "994  2022-09-21     516336.0        1998.0         0.386957\n",
      "995  2022-09-22     612301.0        2458.0         0.401437\n",
      "996  2022-09-23     514567.0        1823.0         0.354278\n",
      "997  2022-09-24     262296.0         741.0         0.282505\n",
      "998  2022-09-25     221691.0         456.0         0.205692\n",
      "\n",
      "[999 rows x 4 columns]>\n"
     ]
    },
    {
     "name": "stderr",
     "output_type": "stream",
     "text": [
      "c:\\Users\\Jen\\AppData\\Local\\Programs\\Python\\Python310\\lib\\site-packages\\pandas\\io\\sql.py:762: UserWarning:\n",
      "\n",
      "pandas only support SQLAlchemy connectable(engine/connection) ordatabase string URI or sqlite3 DBAPI2 connectionother DBAPI2 objects are not tested, please consider using SQLAlchemy\n",
      "\n"
     ]
    },
    {
     "name": "stdout",
     "output_type": "stream",
     "text": [
      "<bound method NDFrame.head of    total_cases  total_deaths  DeathPercentage\n",
      "0    613366757       6498531         1.059485>\n"
     ]
    }
   ],
   "source": [
    "query_daily_global_deaths = \"\"\"\n",
    "    Select date, sum(new_cases) as total_cases, sum(cast(new_deaths as int)) as total_deaths, SUM(cast(new_deaths as int))/SUM(new_cases)*100 as DeathPercentage\n",
    "    From PortfolioProject..CovidDeaths\n",
    "    where continent is not null\n",
    "    group by date\n",
    "    order by 1,2\n",
    "    \"\"\"\n",
    "daily_global_deaths = pd.read_sql(query_daily_global_deaths, cnxn)\n",
    "print(daily_global_deaths.head)\n",
    "\n",
    "query_global_deaths_and_cases = \"\"\"\n",
    "    Select sum(cast(new_cases as int)) as total_cases, sum(cast(new_deaths as int)) as total_deaths, SUM(cast(new_deaths as int))/SUM(new_cases)*100 as DeathPercentage\n",
    "    From PortfolioProject..CovidDeaths\n",
    "    where continent is not null\n",
    "    order by 1,2\n",
    "    \"\"\"\n",
    "global_deaths_and_cases = pd.read_sql(query_global_deaths_and_cases, cnxn)\n",
    "print(global_deaths_and_cases.head)"
   ]
  },
  {
   "cell_type": "markdown",
   "metadata": {},
   "source": [
    "#### Looking at Total Population versus Vaccinations"
   ]
  },
  {
   "cell_type": "code",
   "execution_count": 122,
   "metadata": {},
   "outputs": [
    {
     "name": "stderr",
     "output_type": "stream",
     "text": [
      "c:\\Users\\Jen\\AppData\\Local\\Programs\\Python\\Python310\\lib\\site-packages\\pandas\\io\\sql.py:762: UserWarning:\n",
      "\n",
      "pandas only support SQLAlchemy connectable(engine/connection) ordatabase string URI or sqlite3 DBAPI2 connectionother DBAPI2 objects are not tested, please consider using SQLAlchemy\n",
      "\n"
     ]
    },
    {
     "name": "stdout",
     "output_type": "stream",
     "text": [
      "<bound method NDFrame.head of        continent     location        date  population  cumulative_vaccination  \\\n",
      "0           Asia  Afghanistan  2020-02-24  40099462.0                     NaN   \n",
      "1           Asia  Afghanistan  2020-02-25  40099462.0                     NaN   \n",
      "2           Asia  Afghanistan  2020-02-26  40099462.0                     NaN   \n",
      "3           Asia  Afghanistan  2020-02-27  40099462.0                     NaN   \n",
      "4           Asia  Afghanistan  2020-02-28  40099462.0                     NaN   \n",
      "...          ...          ...         ...         ...                     ...   \n",
      "206562    Africa     Zimbabwe  2022-09-21  15993524.0              10767732.0   \n",
      "206563    Africa     Zimbabwe  2022-09-22  15993524.0              10767732.0   \n",
      "206564    Africa     Zimbabwe  2022-09-23  15993524.0              10767732.0   \n",
      "206565    Africa     Zimbabwe  2022-09-24  15993524.0              10767732.0   \n",
      "206566    Africa     Zimbabwe  2022-09-25  15993524.0              10767732.0   \n",
      "\n",
      "        cumulative_deaths  \n",
      "0                     NaN  \n",
      "1                     NaN  \n",
      "2                     NaN  \n",
      "3                     NaN  \n",
      "4                     NaN  \n",
      "...                   ...  \n",
      "206562             5598.0  \n",
      "206563             5598.0  \n",
      "206564             5599.0  \n",
      "206565             5599.0  \n",
      "206566             5599.0  \n",
      "\n",
      "[206567 rows x 6 columns]>\n"
     ]
    }
   ],
   "source": [
    "query_total_pop_v_vac = \"\"\"\n",
    "    Select dea.continent, dea.location, dea.date, dea.population,  \n",
    "    SUM(cast(vac.new_vaccinations as BIGINT)) OVER (Partition by dea.Location Order by dea.location, dea.date) as cumulative_vaccination, \n",
    "    sum(cast(dea.new_deaths as BIGINT)) OVER (partition by dea.Location Order by dea.location, dea.date) as cumulative_deaths\n",
    "    From PortfolioProject..CovidDeaths dea\n",
    "    Join PortfolioProject..CovidVaccinations vac\n",
    "    on dea.location = vac.location\n",
    "    and dea.date = vac.date\n",
    "    where dea.continent is not null\n",
    "    order by 2,3\n",
    "    \"\"\"\n",
    "total_pop_v_vac = pd.read_sql(query_total_pop_v_vac, cnxn)\n",
    "print(total_pop_v_vac.head)"
   ]
  },
  {
   "cell_type": "markdown",
   "metadata": {},
   "source": [
    "## Data Visualizations\n",
    "\n",
    "### Global Averages\n",
    "The code below generates a table of the global case count, global death count, and the percentages of cases that resulted in fatality."
   ]
  },
  {
   "cell_type": "code",
   "execution_count": 123,
   "metadata": {},
   "outputs": [
    {
     "name": "stdout",
     "output_type": "stream",
     "text": [
      "  Total Cases    Total Deaths    Death Percentage\n",
      "-------------  --------------  ------------------\n",
      "    613366757         6498531                1.06\n"
     ]
    }
   ],
   "source": [
    "from tabulate import tabulate\n",
    "\n",
    "print(tabulate(global_deaths_and_cases, showindex=False, headers = ['Total Cases', 'Total Deaths', 'Death Percentage'], floatfmt=(\".0f\", \".0f\",\".2f\")) )"
   ]
  },
  {
   "cell_type": "markdown",
   "metadata": {},
   "source": [
    "### Total Deaths Per Continent\n",
    "The code below generates a bar chart visualization of the total deaths per continent in the data set."
   ]
  },
  {
   "cell_type": "code",
   "execution_count": 124,
   "metadata": {},
   "outputs": [
    {
     "name": "stderr",
     "output_type": "stream",
     "text": [
      "C:\\Users\\Jen\\AppData\\Local\\Temp\\ipykernel_3024\\2843529740.py:6: SettingWithCopyWarning:\n",
      "\n",
      "\n",
      "A value is trying to be set on a copy of a slice from a DataFrame\n",
      "\n",
      "See the caveats in the documentation: https://pandas.pydata.org/pandas-docs/stable/user_guide/indexing.html#returning-a-view-versus-a-copy\n",
      "\n",
      "C:\\Users\\Jen\\AppData\\Local\\Temp\\ipykernel_3024\\2843529740.py:7: SettingWithCopyWarning:\n",
      "\n",
      "\n",
      "A value is trying to be set on a copy of a slice from a DataFrame\n",
      "\n",
      "See the caveats in the documentation: https://pandas.pydata.org/pandas-docs/stable/user_guide/indexing.html#returning-a-view-versus-a-copy\n",
      "\n"
     ]
    },
    {
     "data": {
      "image/png": "[encoded data removed]",
      "text/plain": [
       "<Figure size 640x480 with 1 Axes>"
      ]
     },
     "metadata": {},
     "output_type": "display_data"
    }
   ],
   "source": [
    "#grab the data from the dataframe\n",
    "continent = continent_v_death.iloc[:, 0]\n",
    "death_count = continent_v_death.iloc[:, 1]\n",
    "\n",
    "#fixing the formatting so the labels don't overlap on the bar chart.\n",
    "continent[0] = \"North\\nAmerica\"\n",
    "continent[1] = \"South\\nAmerica\"\n",
    "\n",
    "#formating the numbers on the y-axis of the plot.\n",
    "from matplotlib.ticker import FormatStrFormatter\n",
    "fig, ax = plt.subplots()\n",
    "ax.yaxis.set_major_formatter(FormatStrFormatter('%6d'))\n",
    "\n",
    "#plot the data\n",
    "plt.bar(continent,death_count)\n",
    "plt.title('Total Deaths Per Continent')\n",
    "plt.xlabel('Continent')\n",
    "plt.ylabel('Total Death Count')\n",
    "plt.show()"
   ]
  },
  {
   "cell_type": "markdown",
   "metadata": {},
   "source": [
    "### Percent Population Infected Per Country\n",
    "The code below generates a heatmap based on the percentage of its population infected."
   ]
  },
  {
   "cell_type": "code",
   "execution_count": 7,
   "metadata": {},
   "outputs": [
    {
     "data": {
      "application/vnd.plotly.v1+json": {
       "config": {
        "plotlyServerURL": "https://plot.ly"
       },
       "data": [
        {
         "coloraxis": "coloraxis",
         "geo": "geo",
         "hovertemplate": "<b>%{hovertext}</b><br><br>iso_alpha=%{location}<br>PercentPopulationInfected=%{z}<extra></extra>",
         "hovertext": [
          null,
          null,
          null,
          null,
          null,
          "Austria",
          "Denmark",
          "Iceland",
          "Slovenia",
          null,
          "Portugal",
          "France",
          null,
          "Israel",
          null,
          null,
          null,
          "Netherlands",
          null,
          null,
          null,
          "Switzerland",
          "Greece",
          "Bahrain",
          null,
          null,
          null,
          null,
          null,
          "Montenegro",
          null,
          null,
          null,
          null,
          "Germany",
          "Australia",
          "Belgium",
          null,
          "Italy",
          null,
          null,
          null,
          null,
          null,
          "United Kingdom",
          "Singapore",
          "New Zealand",
          "Serbia",
          "Ireland",
          null,
          null,
          "Croatia",
          "Mongolia",
          "Uruguay",
          "United States",
          null,
          "Spain",
          "Norway",
          "Taiwan",
          null,
          null,
          "Sweden",
          null,
          null,
          "Chile",
          null,
          null,
          "Finland",
          "Panama",
          null,
          "Lebanon",
          "Costa Rica",
          "Hungary",
          "Argentina",
          null,
          null,
          "Mauritius",
          "Turkey",
          null,
          "Bulgaria",
          null,
          "Japan",
          "Romania",
          null,
          "Poland",
          null,
          null,
          "Brazil",
          null,
          null,
          "Jordan",
          "Kuwait",
          null,
          null,
          "Malaysia",
          null,
          null,
          null,
          null,
          null,
          "Botswana",
          null,
          "Peru",
          "Colombia",
          "Bosnia and Herzegovina",
          "Trinidad and Tobago",
          "Vietnam",
          "Albania",
          "Canada",
          null,
          "Paraguay",
          null,
          null,
          "Cuba",
          null,
          "Tunisia",
          "Bolivia",
          null,
          null,
          null,
          null,
          "Oman",
          "Iran",
          null,
          null,
          null,
          "Libya",
          null,
          null,
          "South Africa",
          "Namibia",
          null,
          "Thailand",
          "Guatemala",
          null,
          "Dominican Republic",
          null,
          "Iraq",
          "Ecuador",
          "Mexico",
          "Jamaica",
          "Honduras",
          null,
          "Philippines",
          "Morocco",
          "Nepal",
          "El Salvador",
          "India",
          null,
          "Sri Lanka",
          null,
          null,
          "Sao Tome and Principe",
          null,
          "Indonesia",
          "Saudi Arabia",
          "Gabon",
          "Venezuela",
          null,
          "Zambia",
          "Zimbabwe",
          "Lesotho",
          "Djibouti",
          "Mauritania",
          "Bangladesh",
          "Myanmar",
          "Equatorial Guinea",
          "Comoros",
          "Rwanda",
          "Cambodia",
          "Mozambique",
          null,
          "Pakistan",
          "Kenya",
          "Algeria",
          "Senegal",
          "Ghana",
          "Afghanistan",
          "Gambia",
          "Egypt",
          null,
          "Togo",
          "Cameroon",
          "Malawi",
          "Guinea-Bissau",
          null,
          "Ethiopia",
          "Burundi",
          "Uganda",
          "Cote d'Ivoire",
          "Angola",
          "Haiti",
          "Eritrea",
          "Guinea",
          "Central African Republic",
          "Syria",
          "Madagascar",
          "Nicaragua",
          "Benin",
          null,
          null,
          null,
          "Somalia",
          "Liberia",
          "Mali",
          "Sudan",
          null,
          "Nigeria",
          null,
          null,
          "Burkina Faso",
          "Sierra Leone",
          "China",
          "Tanzania",
          "Chad",
          "Niger",
          null,
          null,
          null,
          null,
          null,
          null,
          "Puerto Rico",
          null,
          null,
          null,
          null,
          null,
          null,
          null,
          null
         ],
         "locations": [
          null,
          null,
          null,
          null,
          null,
          "AUT",
          "DNK",
          "ISL",
          "SVN",
          null,
          "PRT",
          "FRA",
          null,
          "ISR",
          null,
          null,
          null,
          "NLD",
          null,
          null,
          null,
          "CHE",
          "GRC",
          "BHR",
          null,
          null,
          null,
          null,
          null,
          "MNE",
          null,
          null,
          null,
          null,
          "DEU",
          "AUS",
          "BEL",
          null,
          "ITA",
          null,
          null,
          null,
          null,
          null,
          "GBR",
          "SGP",
          "NZL",
          "SRB",
          "IRL",
          null,
          null,
          "HRV",
          "MNG",
          "URY",
          "USA",
          null,
          "ESP",
          "NOR",
          "TWN",
          null,
          null,
          "SWE",
          null,
          null,
          "CHL",
          null,
          null,
          "FIN",
          "PAN",
          null,
          "LBN",
          "CRI",
          "HUN",
          "ARG",
          null,
          null,
          "MUS",
          "TUR",
          null,
          "BGR",
          null,
          "JPN",
          "ROU",
          null,
          "POL",
          null,
          null,
          "BRA",
          null,
          null,
          "JOR",
          "KWT",
          null,
          null,
          "MYS",
          null,
          null,
          null,
          null,
          null,
          "BWA",
          null,
          "PER",
          "COL",
          "BIH",
          "TTO",
          "VNM",
          "ALB",
          "CAN",
          null,
          "PRY",
          null,
          null,
          "CUB",
          null,
          "TUN",
          "BOL",
          null,
          null,
          null,
          null,
          "OMN",
          "IRN",
          null,
          null,
          null,
          "LBY",
          null,
          null,
          "ZAF",
          "NAM",
          null,
          "THA",
          "GTM",
          null,
          "DOM",
          null,
          "IRQ",
          "ECU",
          "MEX",
          "JAM",
          "HND",
          null,
          "PHL",
          "MAR",
          "NPL",
          "SLV",
          "IND",
          null,
          "LKA",
          null,
          null,
          "STP",
          null,
          "IDN",
          "SAU",
          "GAB",
          "VEN",
          null,
          "ZMB",
          "ZWE",
          "LSO",
          "DJI",
          "MRT",
          "BGD",
          "MMR",
          "GNQ",
          "COM",
          "RWA",
          "KHM",
          "MOZ",
          null,
          "PAK",
          "KEN",
          "DZA",
          "SEN",
          "GHA",
          "AFG",
          "GMB",
          "EGY",
          null,
          "TGO",
          "CMR",
          "MWI",
          "GNB",
          null,
          "ETH",
          "BDI",
          "UGA",
          "CIV",
          "AGO",
          "HTI",
          "ERI",
          "GIN",
          "CAF",
          "SYR",
          "MDG",
          "NIC",
          "BEN",
          null,
          null,
          null,
          "SOM",
          "LBR",
          "MLI",
          "SDN",
          null,
          "NGA",
          null,
          null,
          "BFA",
          "SLE",
          "CHN",
          "TZA",
          "TCD",
          "NER",
          null,
          null,
          null,
          null,
          null,
          null,
          "PRI",
          null,
          null,
          null,
          null,
          null,
          null,
          null,
          null
         ],
         "name": "",
         "type": "choropleth",
         "z": [
          65.53093329299652,
          65.32460125869552,
          61.49984695439241,
          61.18058436555444,
          58.388794695953635,
          56.866838928402586,
          56.22051709530187,
          55.47787813736211,
          55.24820586861438,
          54.19003909569947,
          53.21675594500852,
          52.134074931031414,
          50.797196956259135,
          50.13191260359488,
          50.106269925611045,
          49.92443453981916,
          49.200312286710364,
          48.14502548781558,
          48.11240574327661,
          47.52890205445909,
          47.384259628843154,
          47.02446301553512,
          46.67347670473937,
          46.38278097268779,
          45.33419049272588,
          45.21679444811135,
          45.106393078812765,
          44.82945872959962,
          44.64427012926986,
          44.50091501435832,
          43.54090354090354,
          42.39871189994758,
          40.33378388525944,
          39.671809409584036,
          39.50679926665555,
          39.366382330618904,
          38.97827311388271,
          38.91682325238446,
          37.64936150760808,
          37.575721931423864,
          36.852621483375955,
          36.428165007112376,
          36.204518430439954,
          35.47821684584377,
          35.10937999769326,
          34.68059630335925,
          34.50034777672422,
          34.185024129209914,
          33.329977623700344,
          31.51460267149649,
          30.29294274300932,
          30.27027426427939,
          29.349312470166815,
          28.72379796045834,
          28.50791019226889,
          28.234011061774556,
          28.225662490114384,
          27.057918153566312,
          26.194778086356727,
          25.80785267546908,
          25.190769392695504,
          24.68086423580483,
          24.49057322414778,
          23.829713457113137,
          23.63680556239555,
          23.472141893194525,
          23.29017057398028,
          23.24866076396064,
          22.65579197966937,
          21.749869007570982,
          21.72308525271916,
          21.575053885781355,
          21.450009299896003,
          21.44238172414204,
          21.284426506409687,
          20.510412638789152,
          20.08961325413903,
          19.904113933800893,
          19.174321396071083,
          18.227752841036164,
          17.19466741327547,
          16.900601408221146,
          16.87685476828072,
          16.601115601872603,
          16.376114311770948,
          16.369425333422395,
          16.284605839311947,
          16.155011979098795,
          15.81684386884292,
          15.677714469143728,
          15.670554681180358,
          15.49417262689895,
          15.265232602834272,
          15.263589801635588,
          14.391612954763575,
          14.141951500642817,
          14.12359813567978,
          13.744065874049491,
          13.690129255665651,
          13.230198504365532,
          12.599447617333027,
          12.478965194383036,
          12.282909757277015,
          12.24179517258935,
          12.174501359393911,
          11.968370472378238,
          11.770322264035135,
          11.629062146417676,
          11.174940791526943,
          10.950904759179357,
          10.681391252929869,
          10.606624994684696,
          10.378153734618143,
          9.87126225039471,
          9.663162411499677,
          9.339884559550372,
          9.171824728762978,
          9.13617353017607,
          9.0557067821953,
          8.889694248260865,
          8.863773930573837,
          8.804237434550515,
          8.583706104647963,
          7.959116035385269,
          7.9396928047578985,
          7.725505711598464,
          7.526861924164366,
          7.379760115075546,
          7.279534109816972,
          6.764437551663933,
          6.689442645913228,
          6.545110518620452,
          6.534356041973265,
          6.361371391277714,
          6.154557143468222,
          5.795676403600185,
          5.6751467710371815,
          5.649083585843318,
          5.630249508687537,
          5.589155350590439,
          5.363027258253545,
          4.439780486082099,
          3.7444851097964507,
          3.458194289710862,
          3.411530576819051,
          3.3280351792371223,
          3.195750128243361,
          3.166623187525728,
          3.1557308552128966,
          3.080330757090714,
          3.043578380195832,
          2.905714675898828,
          2.782969606511674,
          2.6615143473470213,
          2.3461019674470207,
          2.2693463515673096,
          2.079764084676994,
          1.930682933032377,
          1.7599561525032892,
          1.7123034952017204,
          1.609026253376054,
          1.5117552227658326,
          1.4191941256760165,
          1.360592714065128,
          1.1937498545595462,
          1.1550634405492954,
          1.0406456910085617,
          1.0310043742530057,
          0.9844161532171417,
          0.8308687015504168,
          0.717705780627359,
          0.7162840993057542,
          0.6794531645510105,
          0.6384040754626482,
          0.6126153060589997,
          0.523348138737859,
          0.514156003446651,
          0.4948096311117591,
          0.47380295433642583,
          0.4719336639985338,
          0.45187481462518936,
          0.45070874160726604,
          0.4472725609541775,
          0.44246426122571125,
          0.42684089694820404,
          0.42559673847965473,
          0.410290642338845,
          0.39889371648780086,
          0.36942648433461683,
          0.31710535849646027,
          0.2988977379691856,
          0.2946739172308112,
          0.28085977120204003,
          0.27824609482211893,
          0.2731093899860623,
          0.2685753813935016,
          0.2305879102920484,
          0.2196177235663174,
          0.21265079082350055,
          0.18241931540141687,
          0.1785076758300607,
          0.16582200376023234,
          0.1594261572459795,
          0.15329024287675008,
          0.1488428454840618,
          0.1386090194488922,
          0.1295336787564767,
          0.12426633362530747,
          0.11549547266485778,
          0.09682762815546204,
          0.09559885547428557,
          0.09204762440294036,
          0.0692064326623493,
          0.06186826659116435,
          0.044080993076728754,
          0.03720391013689534,
          0.03618679858894832,
          0.000003850313814051944,
          null,
          null,
          null,
          null,
          null,
          null,
          null,
          null,
          null,
          null,
          null,
          null,
          null
         ]
        }
       ],
       "layout": {
        "coloraxis": {
         "colorbar": {
          "title": {
           "text": "PercentPopulationInfected"
          }
         },
         "colorscale": [
          [
           0,
           "#0d0887"
          ],
          [
           0.1111111111111111,
           "#46039f"
          ],
          [
           0.2222222222222222,
           "#7201a8"
          ],
          [
           0.3333333333333333,
           "#9c179e"
          ],
          [
           0.4444444444444444,
           "#bd3786"
          ],
          [
           0.5555555555555556,
           "#d8576b"
          ],
          [
           0.6666666666666666,
           "#ed7953"
          ],
          [
           0.7777777777777778,
           "#fb9f3a"
          ],
          [
           0.8888888888888888,
           "#fdca26"
          ],
          [
           1,
           "#f0f921"
          ]
         ]
        },
        "geo": {
         "center": {},
         "domain": {
          "x": [
           0,
           1
          ],
          "y": [
           0,
           1
          ]
         }
        },
        "legend": {
         "tracegroupgap": 0
        },
        "margin": {
         "t": 60
        },
        "template": {
         "data": {
          "bar": [
           {
            "error_x": {
             "color": "#2a3f5f"
            },
            "error_y": {
             "color": "#2a3f5f"
            },
            "marker": {
             "line": {
              "color": "#E5ECF6",
              "width": 0.5
             },
             "pattern": {
              "fillmode": "overlay",
              "size": 10,
              "solidity": 0.2
             }
            },
            "type": "bar"
           }
          ],
          "barpolar": [
           {
            "marker": {
             "line": {
              "color": "#E5ECF6",
              "width": 0.5
             },
             "pattern": {
              "fillmode": "overlay",
              "size": 10,
              "solidity": 0.2
             }
            },
            "type": "barpolar"
           }
          ],
          "carpet": [
           {
            "aaxis": {
             "endlinecolor": "#2a3f5f",
             "gridcolor": "white",
             "linecolor": "white",
             "minorgridcolor": "white",
             "startlinecolor": "#2a3f5f"
            },
            "baxis": {
             "endlinecolor": "#2a3f5f",
             "gridcolor": "white",
             "linecolor": "white",
             "minorgridcolor": "white",
             "startlinecolor": "#2a3f5f"
            },
            "type": "carpet"
           }
          ],
          "choropleth": [
           {
            "colorbar": {
             "outlinewidth": 0,
             "ticks": ""
            },
            "type": "choropleth"
           }
          ],
          "contour": [
           {
            "colorbar": {
             "outlinewidth": 0,
             "ticks": ""
            },
            "colorscale": [
             [
              0,
              "#0d0887"
             ],
             [
              0.1111111111111111,
              "#46039f"
             ],
             [
              0.2222222222222222,
              "#7201a8"
             ],
             [
              0.3333333333333333,
              "#9c179e"
             ],
             [
              0.4444444444444444,
              "#bd3786"
             ],
             [
              0.5555555555555556,
              "#d8576b"
             ],
             [
              0.6666666666666666,
              "#ed7953"
             ],
             [
              0.7777777777777778,
              "#fb9f3a"
             ],
             [
              0.8888888888888888,
              "#fdca26"
             ],
             [
              1,
              "#f0f921"
             ]
            ],
            "type": "contour"
           }
          ],
          "contourcarpet": [
           {
            "colorbar": {
             "outlinewidth": 0,
             "ticks": ""
            },
            "type": "contourcarpet"
           }
          ],
          "heatmap": [
           {
            "colorbar": {
             "outlinewidth": 0,
             "ticks": ""
            },
            "colorscale": [
             [
              0,
              "#0d0887"
             ],
             [
              0.1111111111111111,
              "#46039f"
             ],
             [
              0.2222222222222222,
              "#7201a8"
             ],
             [
              0.3333333333333333,
              "#9c179e"
             ],
             [
              0.4444444444444444,
              "#bd3786"
             ],
             [
              0.5555555555555556,
              "#d8576b"
             ],
             [
              0.6666666666666666,
              "#ed7953"
             ],
             [
              0.7777777777777778,
              "#fb9f3a"
             ],
             [
              0.8888888888888888,
              "#fdca26"
             ],
             [
              1,
              "#f0f921"
             ]
            ],
            "type": "heatmap"
           }
          ],
          "heatmapgl": [
           {
            "colorbar": {
             "outlinewidth": 0,
             "ticks": ""
            },
            "colorscale": [
             [
              0,
              "#0d0887"
             ],
             [
              0.1111111111111111,
              "#46039f"
             ],
             [
              0.2222222222222222,
              "#7201a8"
             ],
             [
              0.3333333333333333,
              "#9c179e"
             ],
             [
              0.4444444444444444,
              "#bd3786"
             ],
             [
              0.5555555555555556,
              "#d8576b"
             ],
             [
              0.6666666666666666,
              "#ed7953"
             ],
             [
              0.7777777777777778,
              "#fb9f3a"
             ],
             [
              0.8888888888888888,
              "#fdca26"
             ],
             [
              1,
              "#f0f921"
             ]
            ],
            "type": "heatmapgl"
           }
          ],
          "histogram": [
           {
            "marker": {
             "pattern": {
              "fillmode": "overlay",
              "size": 10,
              "solidity": 0.2
             }
            },
            "type": "histogram"
           }
          ],
          "histogram2d": [
           {
            "colorbar": {
             "outlinewidth": 0,
             "ticks": ""
            },
            "colorscale": [
             [
              0,
              "#0d0887"
             ],
             [
              0.1111111111111111,
              "#46039f"
             ],
             [
              0.2222222222222222,
              "#7201a8"
             ],
             [
              0.3333333333333333,
              "#9c179e"
             ],
             [
              0.4444444444444444,
              "#bd3786"
             ],
             [
              0.5555555555555556,
              "#d8576b"
             ],
             [
              0.6666666666666666,
              "#ed7953"
             ],
             [
              0.7777777777777778,
              "#fb9f3a"
             ],
             [
              0.8888888888888888,
              "#fdca26"
             ],
             [
              1,
              "#f0f921"
             ]
            ],
            "type": "histogram2d"
           }
          ],
          "histogram2dcontour": [
           {
            "colorbar": {
             "outlinewidth": 0,
             "ticks": ""
            },
            "colorscale": [
             [
              0,
              "#0d0887"
             ],
             [
              0.1111111111111111,
              "#46039f"
             ],
             [
              0.2222222222222222,
              "#7201a8"
             ],
             [
              0.3333333333333333,
              "#9c179e"
             ],
             [
              0.4444444444444444,
              "#bd3786"
             ],
             [
              0.5555555555555556,
              "#d8576b"
             ],
             [
              0.6666666666666666,
              "#ed7953"
             ],
             [
              0.7777777777777778,
              "#fb9f3a"
             ],
             [
              0.8888888888888888,
              "#fdca26"
             ],
             [
              1,
              "#f0f921"
             ]
            ],
            "type": "histogram2dcontour"
           }
          ],
          "mesh3d": [
           {
            "colorbar": {
             "outlinewidth": 0,
             "ticks": ""
            },
            "type": "mesh3d"
           }
          ],
          "parcoords": [
           {
            "line": {
             "colorbar": {
              "outlinewidth": 0,
              "ticks": ""
             }
            },
            "type": "parcoords"
           }
          ],
          "pie": [
           {
            "automargin": true,
            "type": "pie"
           }
          ],
          "scatter": [
           {
            "fillpattern": {
             "fillmode": "overlay",
             "size": 10,
             "solidity": 0.2
            },
            "type": "scatter"
           }
          ],
          "scatter3d": [
           {
            "line": {
             "colorbar": {
              "outlinewidth": 0,
              "ticks": ""
             }
            },
            "marker": {
             "colorbar": {
              "outlinewidth": 0,
              "ticks": ""
             }
            },
            "type": "scatter3d"
           }
          ],
          "scattercarpet": [
           {
            "marker": {
             "colorbar": {
              "outlinewidth": 0,
              "ticks": ""
             }
            },
            "type": "scattercarpet"
           }
          ],
          "scattergeo": [
           {
            "marker": {
             "colorbar": {
              "outlinewidth": 0,
              "ticks": ""
             }
            },
            "type": "scattergeo"
           }
          ],
          "scattergl": [
           {
            "marker": {
             "colorbar": {
              "outlinewidth": 0,
              "ticks": ""
             }
            },
            "type": "scattergl"
           }
          ],
          "scattermapbox": [
           {
            "marker": {
             "colorbar": {
              "outlinewidth": 0,
              "ticks": ""
             }
            },
            "type": "scattermapbox"
           }
          ],
          "scatterpolar": [
           {
            "marker": {
             "colorbar": {
              "outlinewidth": 0,
              "ticks": ""
             }
            },
            "type": "scatterpolar"
           }
          ],
          "scatterpolargl": [
           {
            "marker": {
             "colorbar": {
              "outlinewidth": 0,
              "ticks": ""
             }
            },
            "type": "scatterpolargl"
           }
          ],
          "scatterternary": [
           {
            "marker": {
             "colorbar": {
              "outlinewidth": 0,
              "ticks": ""
             }
            },
            "type": "scatterternary"
           }
          ],
          "surface": [
           {
            "colorbar": {
             "outlinewidth": 0,
             "ticks": ""
            },
            "colorscale": [
             [
              0,
              "#0d0887"
             ],
             [
              0.1111111111111111,
              "#46039f"
             ],
             [
              0.2222222222222222,
              "#7201a8"
             ],
             [
              0.3333333333333333,
              "#9c179e"
             ],
             [
              0.4444444444444444,
              "#bd3786"
             ],
             [
              0.5555555555555556,
              "#d8576b"
             ],
             [
              0.6666666666666666,
              "#ed7953"
             ],
             [
              0.7777777777777778,
              "#fb9f3a"
             ],
             [
              0.8888888888888888,
              "#fdca26"
             ],
             [
              1,
              "#f0f921"
             ]
            ],
            "type": "surface"
           }
          ],
          "table": [
           {
            "cells": {
             "fill": {
              "color": "#EBF0F8"
             },
             "line": {
              "color": "white"
             }
            },
            "header": {
             "fill": {
              "color": "#C8D4E3"
             },
             "line": {
              "color": "white"
             }
            },
            "type": "table"
           }
          ]
         },
         "layout": {
          "annotationdefaults": {
           "arrowcolor": "#2a3f5f",
           "arrowhead": 0,
           "arrowwidth": 1
          },
          "autotypenumbers": "strict",
          "coloraxis": {
           "colorbar": {
            "outlinewidth": 0,
            "ticks": ""
           }
          },
          "colorscale": {
           "diverging": [
            [
             0,
             "#8e0152"
            ],
            [
             0.1,
             "#c51b7d"
            ],
            [
             0.2,
             "#de77ae"
            ],
            [
             0.3,
             "#f1b6da"
            ],
            [
             0.4,
             "#fde0ef"
            ],
            [
             0.5,
             "#f7f7f7"
            ],
            [
             0.6,
             "#e6f5d0"
            ],
            [
             0.7,
             "#b8e186"
            ],
            [
             0.8,
             "#7fbc41"
            ],
            [
             0.9,
             "#4d9221"
            ],
            [
             1,
             "#276419"
            ]
           ],
           "sequential": [
            [
             0,
             "#0d0887"
            ],
            [
             0.1111111111111111,
             "#46039f"
            ],
            [
             0.2222222222222222,
             "#7201a8"
            ],
            [
             0.3333333333333333,
             "#9c179e"
            ],
            [
             0.4444444444444444,
             "#bd3786"
            ],
            [
             0.5555555555555556,
             "#d8576b"
            ],
            [
             0.6666666666666666,
             "#ed7953"
            ],
            [
             0.7777777777777778,
             "#fb9f3a"
            ],
            [
             0.8888888888888888,
             "#fdca26"
            ],
            [
             1,
             "#f0f921"
            ]
           ],
           "sequentialminus": [
            [
             0,
             "#0d0887"
            ],
            [
             0.1111111111111111,
             "#46039f"
            ],
            [
             0.2222222222222222,
             "#7201a8"
            ],
            [
             0.3333333333333333,
             "#9c179e"
            ],
            [
             0.4444444444444444,
             "#bd3786"
            ],
            [
             0.5555555555555556,
             "#d8576b"
            ],
            [
             0.6666666666666666,
             "#ed7953"
            ],
            [
             0.7777777777777778,
             "#fb9f3a"
            ],
            [
             0.8888888888888888,
             "#fdca26"
            ],
            [
             1,
             "#f0f921"
            ]
           ]
          },
          "colorway": [
           "#636efa",
           "#EF553B",
           "#00cc96",
           "#ab63fa",
           "#FFA15A",
           "#19d3f3",
           "#FF6692",
           "#B6E880",
           "#FF97FF",
           "#FECB52"
          ],
          "font": {
           "color": "#2a3f5f"
          },
          "geo": {
           "bgcolor": "white",
           "lakecolor": "white",
           "landcolor": "#E5ECF6",
           "showlakes": true,
           "showland": true,
           "subunitcolor": "white"
          },
          "hoverlabel": {
           "align": "left"
          },
          "hovermode": "closest",
          "mapbox": {
           "style": "light"
          },
          "paper_bgcolor": "white",
          "plot_bgcolor": "#E5ECF6",
          "polar": {
           "angularaxis": {
            "gridcolor": "white",
            "linecolor": "white",
            "ticks": ""
           },
           "bgcolor": "#E5ECF6",
           "radialaxis": {
            "gridcolor": "white",
            "linecolor": "white",
            "ticks": ""
           }
          },
          "scene": {
           "xaxis": {
            "backgroundcolor": "#E5ECF6",
            "gridcolor": "white",
            "gridwidth": 2,
            "linecolor": "white",
            "showbackground": true,
            "ticks": "",
            "zerolinecolor": "white"
           },
           "yaxis": {
            "backgroundcolor": "#E5ECF6",
            "gridcolor": "white",
            "gridwidth": 2,
            "linecolor": "white",
            "showbackground": true,
            "ticks": "",
            "zerolinecolor": "white"
           },
           "zaxis": {
            "backgroundcolor": "#E5ECF6",
            "gridcolor": "white",
            "gridwidth": 2,
            "linecolor": "white",
            "showbackground": true,
            "ticks": "",
            "zerolinecolor": "white"
           }
          },
          "shapedefaults": {
           "line": {
            "color": "#2a3f5f"
           }
          },
          "ternary": {
           "aaxis": {
            "gridcolor": "white",
            "linecolor": "white",
            "ticks": ""
           },
           "baxis": {
            "gridcolor": "white",
            "linecolor": "white",
            "ticks": ""
           },
           "bgcolor": "#E5ECF6",
           "caxis": {
            "gridcolor": "white",
            "linecolor": "white",
            "ticks": ""
           }
          },
          "title": {
           "x": 0.05
          },
          "xaxis": {
           "automargin": true,
           "gridcolor": "white",
           "linecolor": "white",
           "ticks": "",
           "title": {
            "standoff": 15
           },
           "zerolinecolor": "white",
           "zerolinewidth": 2
          },
          "yaxis": {
           "automargin": true,
           "gridcolor": "white",
           "linecolor": "white",
           "ticks": "",
           "title": {
            "standoff": 15
           },
           "zerolinecolor": "white",
           "zerolinewidth": 2
          }
         }
        }
       }
      }
     },
     "metadata": {},
     "output_type": "display_data"
    }
   ],
   "source": [
    "import pandas as pd\n",
    "import plotly.express as px\n",
    "\n",
    "#pull in a dataframe that comes with plotly.express that has country 3-digit codes.\n",
    "df = px.data.gapminder().query(\"year==2007\")\n",
    "\n",
    "#join with data frame w/ covid data\n",
    "Left_join = pd.merge(max_infection_Rate_v_Population, \n",
    "                      df, \n",
    "                      left_on ='Location', right_on = 'country',\n",
    "                      how ='left')\n",
    "\n",
    "# Chloropleth map of world by infection rate for each country\n",
    "fig = px.choropleth(Left_join, locations=\"iso_alpha\",\n",
    "                    color=\"PercentPopulationInfected\", # lifeExp is a column of gapminder\n",
    "                    hover_name=\"country\", # column to add to hover information\n",
    "                    color_continuous_scale=px.colors.sequential.Plasma)\n",
    "fig.show()"
   ]
  },
  {
   "cell_type": "markdown",
   "metadata": {},
   "source": [
    "### Percent Population Infected Over Time\n",
    "The following plot shows the percentage of population infected over time for some countries with the highest infection rates (United States, India, France, Brazil, Germany,South Korea, United Kingdom)."
   ]
  },
  {
   "cell_type": "code",
   "execution_count": 50,
   "metadata": {},
   "outputs": [
    {
     "data": {
      "image/png": "[encoded data removed]",
      "text/plain": [
       "<Figure size 640x480 with 1 Axes>"
      ]
     },
     "metadata": {},
     "output_type": "display_data"
    }
   ],
   "source": [
    "# importing package\n",
    "import numpy as np\n",
    "import matplotlib.dates as mdates\n",
    "from matplotlib.dates import DateFormatter\n",
    "\n",
    "from matplotlib.pyplot import figure\n",
    "\n",
    "#get data from query\n",
    "us_date = pd.to_datetime(case_v_population.loc[case_v_population['Location'] == 'United States']['date'])\n",
    "us_infection = case_v_population.loc[case_v_population['Location'] == 'United States']['CasePercentage']\n",
    "\n",
    "india_date = pd.to_datetime(case_v_population.loc[case_v_population['Location'] == 'India']['date'])\n",
    "india_infection = case_v_population.loc[case_v_population['Location'] == 'India']['CasePercentage']\n",
    "\n",
    "france_date = pd.to_datetime(case_v_population.loc[case_v_population['Location'] == 'France']['date'])\n",
    "france_infection = case_v_population.loc[case_v_population['Location'] == 'France']['CasePercentage']\n",
    "\n",
    "brazil_date = pd.to_datetime(case_v_population.loc[case_v_population['Location'] == 'Brazil']['date'])\n",
    "brazil_infection = case_v_population.loc[case_v_population['Location'] == 'Brazil']['CasePercentage']\n",
    "\n",
    "germany_date = pd.to_datetime(case_v_population.loc[case_v_population['Location'] == 'Germany']['date'])\n",
    "germany_infection = case_v_population.loc[case_v_population['Location'] == 'Germany']['CasePercentage']\n",
    "\n",
    "southkorea_date = pd.to_datetime(case_v_population.loc[case_v_population['Location'] == 'South Korea']['date'])\n",
    "southkorea_infection = case_v_population.loc[case_v_population['Location'] == 'South Korea']['CasePercentage']\n",
    "\n",
    "uk_date = pd.to_datetime(case_v_population.loc[case_v_population['Location'] == 'United Kingdom']['date'])\n",
    "uk_infection = case_v_population.loc[case_v_population['Location'] == 'United Kingdom']['CasePercentage']\n",
    "\n",
    " # plot lines\n",
    "plt.plot(us_date, us_infection, label = \"United States\", linestyle=\"-\")\n",
    "plt.plot(france_date, france_infection, label = \"France\", linestyle=\"--\")\n",
    "plt.plot(india_date, india_infection, label = \"India\", linestyle=\"-.\")\n",
    "plt.plot(brazil_date, brazil_infection, label = \"Brazil\", linestyle=\":\")\n",
    "plt.plot(southkorea_date, southkorea_infection, label = \"South Korea\", linestyle=\":\")\n",
    "plt.plot(uk_date, uk_infection, label = \"United Kingdom\", linestyle=\"-\", color = \"red\")\n",
    "\n",
    "#rotate dates on x-axis 90 degrees\n",
    "plt.xticks(rotation=90)\n",
    "\n",
    "plt.legend()\n",
    "\n",
    "\n",
    "# Define the date format\n",
    "date_form = DateFormatter(\"%m-%Y\")\n",
    "ax.xaxis.set_major_formatter(date_form)\n",
    "\n",
    "# Ensure a major tick for every 12 weeks (3 months)\n",
    "ax.xaxis.set_major_locator(mdates.WeekdayLocator(interval=12))\n",
    "plt.xlabel('Time')\n",
    "plt.ylabel('Percent Population Infected')\n",
    "plt.show()"
   ]
  }
 ],
 "metadata": {
  "kernelspec": {
   "display_name": "Python 3.10.6 64-bit",
   "language": "python",
   "name": "python3"
  },
  "language_info": {
   "codemirror_mode": {
    "name": "ipython",
    "version": 3
   },
   "file_extension": ".py",
   "mimetype": "text/x-python",
   "name": "python",
   "nbconvert_exporter": "python",
   "pygments_lexer": "ipython3",
   "version": "3.10.6"
  },
  "orig_nbformat": 4,
  "vscode": {
   "interpreter": {
    "hash": "390fbb69812d601ec0976aa52bf2d5a3b84f91a4eff3377650e84b76eb0be6d6"
   }
  }
 },
 "nbformat": 4,
 "nbformat_minor": 2
}
